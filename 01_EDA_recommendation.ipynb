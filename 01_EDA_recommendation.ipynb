{
 "cells": [
  {
   "cell_type": "markdown",
   "id": "a67201e0-b526-4101-8f33-ea68304a6f85",
   "metadata": {},
   "source": [
    "# EXPLORATORY DATA ANALYSIS (EDA)\n",
    "\n",
    "**EDA** | What users are there? | What products? Who buys the most? | What product is repeated the most? | Are there outliers? "
   ]
  },
  {
   "cell_type": "markdown",
   "id": "ab6945e5-afd9-4901-8edb-8dcda6994147",
   "metadata": {},
   "source": [
    "## Step 1: Load & inspect data"
   ]
  },
  {
   "cell_type": "code",
   "execution_count": 3,
   "id": "560b0fdf-86a8-4b66-965b-84196e76ec8e",
   "metadata": {},
   "outputs": [
    {
     "name": "stdout",
     "output_type": "stream",
     "text": [
      "(3421083, 7) (32434489, 4) (1384617, 4)\n"
     ]
    },
    {
     "data": {
      "text/html": [
       "<div>\n",
       "<style scoped>\n",
       "    .dataframe tbody tr th:only-of-type {\n",
       "        vertical-align: middle;\n",
       "    }\n",
       "\n",
       "    .dataframe tbody tr th {\n",
       "        vertical-align: top;\n",
       "    }\n",
       "\n",
       "    .dataframe thead th {\n",
       "        text-align: right;\n",
       "    }\n",
       "</style>\n",
       "<table border=\"1\" class=\"dataframe\">\n",
       "  <thead>\n",
       "    <tr style=\"text-align: right;\">\n",
       "      <th></th>\n",
       "      <th>order_id</th>\n",
       "      <th>user_id</th>\n",
       "      <th>eval_set</th>\n",
       "      <th>order_number</th>\n",
       "      <th>order_dow</th>\n",
       "      <th>order_hour_of_day</th>\n",
       "      <th>days_since_prior_order</th>\n",
       "    </tr>\n",
       "  </thead>\n",
       "  <tbody>\n",
       "    <tr>\n",
       "      <th>0</th>\n",
       "      <td>2539329</td>\n",
       "      <td>1</td>\n",
       "      <td>prior</td>\n",
       "      <td>1</td>\n",
       "      <td>2</td>\n",
       "      <td>8</td>\n",
       "      <td>NaN</td>\n",
       "    </tr>\n",
       "    <tr>\n",
       "      <th>1</th>\n",
       "      <td>2398795</td>\n",
       "      <td>1</td>\n",
       "      <td>prior</td>\n",
       "      <td>2</td>\n",
       "      <td>3</td>\n",
       "      <td>7</td>\n",
       "      <td>15.0</td>\n",
       "    </tr>\n",
       "    <tr>\n",
       "      <th>2</th>\n",
       "      <td>473747</td>\n",
       "      <td>1</td>\n",
       "      <td>prior</td>\n",
       "      <td>3</td>\n",
       "      <td>3</td>\n",
       "      <td>12</td>\n",
       "      <td>21.0</td>\n",
       "    </tr>\n",
       "    <tr>\n",
       "      <th>3</th>\n",
       "      <td>2254736</td>\n",
       "      <td>1</td>\n",
       "      <td>prior</td>\n",
       "      <td>4</td>\n",
       "      <td>4</td>\n",
       "      <td>7</td>\n",
       "      <td>29.0</td>\n",
       "    </tr>\n",
       "    <tr>\n",
       "      <th>4</th>\n",
       "      <td>431534</td>\n",
       "      <td>1</td>\n",
       "      <td>prior</td>\n",
       "      <td>5</td>\n",
       "      <td>4</td>\n",
       "      <td>15</td>\n",
       "      <td>28.0</td>\n",
       "    </tr>\n",
       "  </tbody>\n",
       "</table>\n",
       "</div>"
      ],
      "text/plain": [
       "   order_id  user_id eval_set  order_number  order_dow  order_hour_of_day  \\\n",
       "0   2539329        1    prior             1          2                  8   \n",
       "1   2398795        1    prior             2          3                  7   \n",
       "2    473747        1    prior             3          3                 12   \n",
       "3   2254736        1    prior             4          4                  7   \n",
       "4    431534        1    prior             5          4                 15   \n",
       "\n",
       "   days_since_prior_order  \n",
       "0                     NaN  \n",
       "1                    15.0  \n",
       "2                    21.0  \n",
       "3                    29.0  \n",
       "4                    28.0  "
      ]
     },
     "execution_count": 3,
     "metadata": {},
     "output_type": "execute_result"
    }
   ],
   "source": [
    "import pandas as pd\n",
    "\n",
    "import warnings\n",
    "from pandas.errors import PerformanceWarning\n",
    "\n",
    "warnings.simplefilter('ignore', PerformanceWarning)\n",
    "\n",
    "# 1) Load raw tables\n",
    "orders = pd.read_csv('data/orders.csv')\n",
    "prior  = pd.read_csv('data/order_products__prior.csv')\n",
    "train  = pd.read_csv('data/order_products__train.csv')\n",
    "prods  = pd.read_csv('data/products.csv')\n",
    "aisles = pd.read_csv('data/aisles.csv')\n",
    "depts  = pd.read_csv('data/departments.csv')\n",
    "\n",
    "# 2) Quick peek\n",
    "print(orders.shape, prior.shape, train.shape)\n",
    "orders.head()\n"
   ]
  },
  {
   "cell_type": "markdown",
   "id": "41c890ed-6e0f-47bb-b373-ca50b4d3e0bb",
   "metadata": {},
   "source": [
    "## Step 2: Data upload and initial summary"
   ]
  },
  {
   "cell_type": "code",
   "execution_count": 18,
   "id": "5f10997b-a648-4437-9d27-732c956cebe3",
   "metadata": {},
   "outputs": [
    {
     "name": "stdout",
     "output_type": "stream",
     "text": [
      "Orders:\n",
      "<class 'pandas.core.frame.DataFrame'>\n",
      "RangeIndex: 3421083 entries, 0 to 3421082\n",
      "Data columns (total 7 columns):\n",
      " #   Column                  Dtype  \n",
      "---  ------                  -----  \n",
      " 0   order_id                int64  \n",
      " 1   user_id                 int64  \n",
      " 2   eval_set                object \n",
      " 3   order_number            int64  \n",
      " 4   order_dow               int64  \n",
      " 5   order_hour_of_day       int64  \n",
      " 6   days_since_prior_order  float64\n",
      "dtypes: float64(1), int64(5), object(1)\n",
      "memory usage: 182.7+ MB\n",
      "None\n",
      "   order_id  user_id eval_set  order_number  order_dow  order_hour_of_day  \\\n",
      "0   2539329        1    prior             1          2                  8   \n",
      "1   2398795        1    prior             2          3                  7   \n",
      "2    473747        1    prior             3          3                 12   \n",
      "3   2254736        1    prior             4          4                  7   \n",
      "4    431534        1    prior             5          4                 15   \n",
      "\n",
      "   days_since_prior_order  \n",
      "0                     NaN  \n",
      "1                    15.0  \n",
      "2                    21.0  \n",
      "3                    29.0  \n",
      "4                    28.0  \n",
      "\n",
      "Order Products (prior):\n",
      "<class 'pandas.core.frame.DataFrame'>\n",
      "RangeIndex: 32434489 entries, 0 to 32434488\n",
      "Data columns (total 4 columns):\n",
      " #   Column             Dtype\n",
      "---  ------             -----\n",
      " 0   order_id           int64\n",
      " 1   product_id         int64\n",
      " 2   add_to_cart_order  int64\n",
      " 3   reordered          int64\n",
      "dtypes: int64(4)\n",
      "memory usage: 989.8 MB\n",
      "None\n",
      "   order_id  product_id  add_to_cart_order  reordered\n",
      "0         2       33120                  1          1\n",
      "1         2       28985                  2          1\n",
      "2         2        9327                  3          0\n",
      "3         2       45918                  4          1\n",
      "4         2       30035                  5          0\n",
      "\n",
      "Products:\n",
      "<class 'pandas.core.frame.DataFrame'>\n",
      "RangeIndex: 49688 entries, 0 to 49687\n",
      "Data columns (total 4 columns):\n",
      " #   Column         Non-Null Count  Dtype \n",
      "---  ------         --------------  ----- \n",
      " 0   product_id     49688 non-null  int64 \n",
      " 1   product_name   49688 non-null  object\n",
      " 2   aisle_id       49688 non-null  int64 \n",
      " 3   department_id  49688 non-null  int64 \n",
      "dtypes: int64(3), object(1)\n",
      "memory usage: 1.5+ MB\n",
      "None\n",
      "   product_id                                       product_name  aisle_id  \\\n",
      "0           1                         Chocolate Sandwich Cookies        61   \n",
      "1           2                                   All-Seasons Salt       104   \n",
      "2           3               Robust Golden Unsweetened Oolong Tea        94   \n",
      "3           4  Smart Ones Classic Favorites Mini Rigatoni Wit...        38   \n",
      "4           5                          Green Chile Anytime Sauce         5   \n",
      "\n",
      "   department_id  \n",
      "0             19  \n",
      "1             13  \n",
      "2              7  \n",
      "3              1  \n",
      "4             13  \n"
     ]
    }
   ],
   "source": [
    "import pandas as pd\n",
    "\n",
    "# Carga de los datasets\n",
    "orders = pd.read_csv('data/orders.csv')\n",
    "prior = pd.read_csv('data/order_products__prior.csv')\n",
    "products = pd.read_csv('data/products.csv')\n",
    "\n",
    "# Vista rápida de cada DataFrame\n",
    "print(\"Orders:\")\n",
    "print(orders.info())\n",
    "print(orders.head())\n",
    "\n",
    "print(\"\\nOrder Products (prior):\")\n",
    "print(prior.info())\n",
    "print(prior.head())\n",
    "\n",
    "print(\"\\nProducts:\")\n",
    "print(products.info())\n",
    "print(products.head())\n"
   ]
  },
  {
   "cell_type": "markdown",
   "id": "6e420cab-a010-4de6-b262-89782406ece4",
   "metadata": {},
   "source": [
    "## Step 3: Unique dimensions and values"
   ]
  },
  {
   "cell_type": "code",
   "execution_count": 22,
   "id": "85e76c5b-1eab-4ab0-8772-a5e427b087c1",
   "metadata": {},
   "outputs": [
    {
     "name": "stdout",
     "output_type": "stream",
     "text": [
      "\n",
      "Number of orders: 3421083\n",
      "Number of prior order rows: 32434489\n",
      "Number of products: 49688\n",
      "\n",
      "Unique users: 206209\n",
      "Unique products: 49688\n",
      "Unique orders: 3421083\n"
     ]
    }
   ],
   "source": [
    "print(f\"\\nNumber of orders: {orders.shape[0]}\")\n",
    "print(f\"Number of prior order rows: {prior.shape[0]}\")\n",
    "print(f\"Number of products: {products.shape[0]}\")\n",
    "\n",
    "print(f\"\\nUnique users: {orders['user_id'].nunique()}\")\n",
    "print(f\"Unique products: {products['product_id'].nunique()}\")\n",
    "print(f\"Unique orders: {orders['order_id'].nunique()}\")\n"
   ]
  },
  {
   "cell_type": "markdown",
   "id": "cf285773-c7fe-4a86-8013-595de6a5613a",
   "metadata": {},
   "source": [
    "## Step 4: Checking for nulls and duplicates"
   ]
  },
  {
   "cell_type": "code",
   "execution_count": 23,
   "id": "06027c95-8655-45d4-8a51-d4aac87d4700",
   "metadata": {},
   "outputs": [
    {
     "name": "stdout",
     "output_type": "stream",
     "text": [
      "\n",
      "Null values per column (orders):\n",
      "order_id                       0\n",
      "user_id                        0\n",
      "eval_set                       0\n",
      "order_number                   0\n",
      "order_dow                      0\n",
      "order_hour_of_day              0\n",
      "days_since_prior_order    206209\n",
      "dtype: int64\n",
      "\n",
      "Null values per column (prior):\n",
      "order_id             0\n",
      "product_id           0\n",
      "add_to_cart_order    0\n",
      "reordered            0\n",
      "dtype: int64\n",
      "\n",
      "Null values per column (products):\n",
      "product_id       0\n",
      "product_name     0\n",
      "aisle_id         0\n",
      "department_id    0\n",
      "dtype: int64\n",
      "\n",
      "Duplicated rows (orders): 0\n",
      "Duplicated rows (prior): 0\n",
      "Duplicated rows (products): 0\n"
     ]
    }
   ],
   "source": [
    "# Nulos\n",
    "print(\"\\nNull values per column (orders):\")\n",
    "print(orders.isnull().sum())\n",
    "print(\"\\nNull values per column (prior):\")\n",
    "print(prior.isnull().sum())\n",
    "print(\"\\nNull values per column (products):\")\n",
    "print(products.isnull().sum())\n",
    "\n",
    "# Duplicados\n",
    "print(\"\\nDuplicated rows (orders):\", orders.duplicated().sum())\n",
    "print(\"Duplicated rows (prior):\", prior.duplicated().sum())\n",
    "print(\"Duplicated rows (products):\", products.duplicated().sum())\n"
   ]
  },
  {
   "cell_type": "markdown",
   "id": "cad05fb9-11b2-4ac9-a4e2-d9681d7d9311",
   "metadata": {},
   "source": [
    "## Step 5: Basic descriptive statistics"
   ]
  },
  {
   "cell_type": "code",
   "execution_count": 24,
   "id": "fcca13c4-51c5-4d53-b862-2fb04d363aff",
   "metadata": {},
   "outputs": [
    {
     "name": "stdout",
     "output_type": "stream",
     "text": [
      "\n",
      "Describe orders:\n",
      "           order_id       user_id  order_number     order_dow  \\\n",
      "count  3.421083e+06  3.421083e+06  3.421083e+06  3.421083e+06   \n",
      "mean   1.710542e+06  1.029782e+05  1.715486e+01  2.776219e+00   \n",
      "std    9.875817e+05  5.953372e+04  1.773316e+01  2.046829e+00   \n",
      "min    1.000000e+00  1.000000e+00  1.000000e+00  0.000000e+00   \n",
      "25%    8.552715e+05  5.139400e+04  5.000000e+00  1.000000e+00   \n",
      "50%    1.710542e+06  1.026890e+05  1.100000e+01  3.000000e+00   \n",
      "75%    2.565812e+06  1.543850e+05  2.300000e+01  5.000000e+00   \n",
      "max    3.421083e+06  2.062090e+05  1.000000e+02  6.000000e+00   \n",
      "\n",
      "       order_hour_of_day  days_since_prior_order  \n",
      "count       3.421083e+06            3.214874e+06  \n",
      "mean        1.345202e+01            1.111484e+01  \n",
      "std         4.226088e+00            9.206737e+00  \n",
      "min         0.000000e+00            0.000000e+00  \n",
      "25%         1.000000e+01            4.000000e+00  \n",
      "50%         1.300000e+01            7.000000e+00  \n",
      "75%         1.600000e+01            1.500000e+01  \n",
      "max         2.300000e+01            3.000000e+01  \n",
      "\n",
      "Describe prior:\n",
      "           order_id    product_id  add_to_cart_order     reordered\n",
      "count  3.243449e+07  3.243449e+07       3.243449e+07  3.243449e+07\n",
      "mean   1.710749e+06  2.557634e+04       8.351076e+00  5.896975e-01\n",
      "std    9.873007e+05  1.409669e+04       7.126671e+00  4.918886e-01\n",
      "min    2.000000e+00  1.000000e+00       1.000000e+00  0.000000e+00\n",
      "25%    8.559430e+05  1.353000e+04       3.000000e+00  0.000000e+00\n",
      "50%    1.711048e+06  2.525600e+04       6.000000e+00  1.000000e+00\n",
      "75%    2.565514e+06  3.793500e+04       1.100000e+01  1.000000e+00\n",
      "max    3.421083e+06  4.968800e+04       1.450000e+02  1.000000e+00\n",
      "\n",
      "Describe products:\n",
      "         product_id      aisle_id  department_id\n",
      "count  49688.000000  49688.000000   49688.000000\n",
      "mean   24844.500000     67.769582      11.728687\n",
      "std    14343.834425     38.316162       5.850410\n",
      "min        1.000000      1.000000       1.000000\n",
      "25%    12422.750000     35.000000       7.000000\n",
      "50%    24844.500000     69.000000      13.000000\n",
      "75%    37266.250000    100.000000      17.000000\n",
      "max    49688.000000    134.000000      21.000000\n"
     ]
    }
   ],
   "source": [
    "# Estadísticas de columnas numéricas\n",
    "print(\"\\nDescribe orders:\")\n",
    "print(orders.describe())\n",
    "\n",
    "print(\"\\nDescribe prior:\")\n",
    "print(prior.describe())\n",
    "\n",
    "print(\"\\nDescribe products:\")\n",
    "print(products.describe())\n"
   ]
  },
  {
   "cell_type": "markdown",
   "id": "2df44eb1-1806-41db-bb55-cf6257c5919f",
   "metadata": {},
   "source": [
    "## Step 6: Most popular products and most active users"
   ]
  },
  {
   "cell_type": "code",
   "execution_count": 27,
   "id": "bd35456c-3450-46dd-8c97-8cb4f7e39150",
   "metadata": {},
   "outputs": [
    {
     "name": "stdout",
     "output_type": "stream",
     "text": [
      "\n",
      "Top 10 most purchased products:\n",
      "       product_id            product_name  aisle_id  department_id  product_id\n",
      "24851       24852                  Banana        24              4       24852\n",
      "13175       13176  Bag of Organic Bananas        24              4       13176\n",
      "21136       21137    Organic Strawberries        24              4       21137\n",
      "21902       21903    Organic Baby Spinach       123              4       21903\n",
      "47208       47209    Organic Hass Avocado        24              4       47209\n",
      "47765       47766         Organic Avocado        24              4       47766\n",
      "47625       47626             Large Lemon        24              4       47626\n",
      "16796       16797            Strawberries        24              4       16797\n",
      "26208       26209                   Limes        24              4       26209\n",
      "27844       27845      Organic Whole Milk        84             16       27845\n",
      "\n",
      "Top 10 users with the most orders:\n",
      "user_id\n",
      "75124     100\n",
      "173431    100\n",
      "127158    100\n",
      "96192     100\n",
      "173073    100\n",
      "172966    100\n",
      "18998     100\n",
      "62866     100\n",
      "62890     100\n",
      "96497     100\n",
      "Name: count, dtype: int64\n"
     ]
    }
   ],
   "source": [
    "# Top 10 most purchased products\n",
    "top_products = (\n",
    "    prior['product_id']\n",
    "    .value_counts()\n",
    "    .head(10)\n",
    "    .to_frame()\n",
    "    .merge(products, left_index=True, right_on='product_id')\n",
    ")\n",
    "\n",
    "print(\"\\nTop 10 most purchased products:\")\n",
    "print(top_products[['product_id', 'product_name', 'aisle_id', 'department_id', 'product_id']])\n",
    "\n",
    "# Top 10 most active users (more orders)\n",
    "top_users = (\n",
    "    orders['user_id']\n",
    "    .value_counts()\n",
    "    .head(10)\n",
    ")\n",
    "print(\"\\nTop 10 users with the most orders:\")\n",
    "print(top_users)\n"
   ]
  },
  {
   "cell_type": "markdown",
   "id": "ef292661-990b-4d76-b22d-810c854b4b1c",
   "metadata": {},
   "source": [
    "## Step 7: Distributions and visualizations"
   ]
  },
  {
   "cell_type": "code",
   "execution_count": 29,
   "id": "831d9671-1a11-4bc3-b114-f10067302787",
   "metadata": {},
   "outputs": [
    {
     "data": {
      "image/png": "[encoded data removed]",
      "text/plain": [
       "<Figure size 800x400 with 1 Axes>"
      ]
     },
     "metadata": {},
     "output_type": "display_data"
    },
    {
     "data": {
      "image/png": "[encoded data removed]",
      "text/plain": [
       "<Figure size 800x400 with 1 Axes>"
      ]
     },
     "metadata": {},
     "output_type": "display_data"
    }
   ],
   "source": [
    "import matplotlib.pyplot as plt\n",
    "import seaborn as sns\n",
    "\n",
    "# Distribution of orders by user\n",
    "plt.figure(figsize=(8,4))\n",
    "orders_per_user = orders['user_id'].value_counts()\n",
    "sns.histplot(orders_per_user, bins=50, kde=False)\n",
    "plt.xlabel('Orders per user')\n",
    "plt.ylabel('Number of users')\n",
    "plt.title('Distribution of number of orders per user')\n",
    "plt.show()\n",
    "\n",
    "# Distribution of purchases by product\n",
    "plt.figure(figsize=(8,4))\n",
    "products_bought = prior['product_id'].value_counts()\n",
    "sns.histplot(products_bought, bins=50, kde=False)\n",
    "plt.xlabel('Purchases per product')\n",
    "plt.ylabel('Number of products')\n",
    "plt.title('Distribution of purchases per product')\n",
    "plt.show()\n"
   ]
  },
  {
   "cell_type": "markdown",
   "id": "f79b39a4-d9ad-4d42-8677-de19989d3bc8",
   "metadata": {},
   "source": [
    "### User Behavior"
   ]
  },
  {
   "cell_type": "code",
   "execution_count": 9,
   "id": "20f7a852-6643-41b9-b4b1-999a017b7b64",
   "metadata": {},
   "outputs": [
    {
     "data": {
      "text/plain": [
       "<Axes: >"
      ]
     },
     "execution_count": 9,
     "metadata": {},
     "output_type": "execute_result"
    },
    {
     "data": {
      "image/png": "[encoded data removed]",
      "text/plain": [
       "<Figure size 640x480 with 1 Axes>"
      ]
     },
     "metadata": {},
     "output_type": "display_data"
    }
   ],
   "source": [
    "# Orders per user\n",
    "orders.user_id.value_counts().hist(bins=50)"
   ]
  },
  {
   "cell_type": "markdown",
   "id": "d0a32844-e4b8-41fc-9b65-d97733ca3a5a",
   "metadata": {},
   "source": [
    "### Popular products"
   ]
  },
  {
   "cell_type": "code",
   "execution_count": 10,
   "id": "bd83eb82-6ed2-471f-97a6-11a8b8de09a3",
   "metadata": {},
   "outputs": [
    {
     "name": "stdout",
     "output_type": "stream",
     "text": [
      "product_id\n",
      "24852                    Banana\n",
      "13176    Bag of Organic Bananas\n",
      "21137      Organic Strawberries\n",
      "21903      Organic Baby Spinach\n",
      "47209      Organic Hass Avocado\n",
      "47766           Organic Avocado\n",
      "47626               Large Lemon\n",
      "16797              Strawberries\n",
      "26209                     Limes\n",
      "27845        Organic Whole Milk\n",
      "Name: product_name, dtype: object\n"
     ]
    }
   ],
   "source": [
    "popular = prior.product_id.value_counts().head(10)\n",
    "popular_names = prods.set_index('product_id').loc[popular.index].product_name\n",
    "print(popular_names)"
   ]
  },
  {
   "cell_type": "markdown",
   "id": "c13f9a22-db48-482c-8661-aea3c6838b72",
   "metadata": {},
   "source": [
    "### Reorder rate"
   ]
  },
  {
   "cell_type": "code",
   "execution_count": 11,
   "id": "db257211-cf10-47bc-ae24-8c2efdf5ed2b",
   "metadata": {},
   "outputs": [
    {
     "data": {
      "text/plain": [
       "np.float64(0.5896974667922161)"
      ]
     },
     "execution_count": 11,
     "metadata": {},
     "output_type": "execute_result"
    }
   ],
   "source": [
    "prior.reordered.mean()"
   ]
  },
  {
   "cell_type": "markdown",
   "id": "bd6912c9-8394-453a-8ee5-6877ab0351b1",
   "metadata": {},
   "source": [
    "## Step 8: Checking concrete examples"
   ]
  },
  {
   "cell_type": "code",
   "execution_count": 30,
   "id": "6386ec21-691f-49e4-a23c-5dd14e186efb",
   "metadata": {},
   "outputs": [
    {
     "name": "stdout",
     "output_type": "stream",
     "text": [
      "\n",
      "Products purchased by the user 1:\n",
      "   order_id  product_id            product_name\n",
      "0    431534         196                    Soda\n",
      "1    431534       12427     Original Beef Jerky\n",
      "2    431534       10258              Pistachios\n",
      "3    431534       25133   Organic String Cheese\n",
      "4    431534       10326     Organic Fuji Apples\n",
      "5    431534       17122       Honeycrisp Apples\n",
      "6    431534       41787          Bartlett Pears\n",
      "7    431534       13176  Bag of Organic Bananas\n",
      "8    473747         196                    Soda\n",
      "9    473747       12427     Original Beef Jerky\n"
     ]
    }
   ],
   "source": [
    "# What products did a specific user purchase (example with the first user_id)?\n",
    "example_user = orders['user_id'].iloc[0]\n",
    "user_orders = orders[orders['user_id'] == example_user]['order_id']\n",
    "user_products = prior[prior['order_id'].isin(user_orders)]\n",
    "print(f\"\\nProducts purchased by the user {example_user}:\")\n",
    "print(user_products.merge(products, on='product_id')[['order_id', 'product_id', 'product_name']].head(10))\n"
   ]
  },
  {
   "cell_type": "markdown",
   "id": "51fbae98-54ae-4e1a-adf5-69a273c96419",
   "metadata": {},
   "source": [
    "## User Behavior"
   ]
  },
  {
   "cell_type": "code",
   "execution_count": 35,
   "id": "bfb85e45-0346-48e7-8fca-775f0d7f5c61",
   "metadata": {},
   "outputs": [
    {
     "name": "stdout",
     "output_type": "stream",
     "text": [
      "Orders per user (describe):\n",
      "count    206209.000000\n",
      "mean         16.590367\n",
      "std          16.654774\n",
      "min           4.000000\n",
      "25%           6.000000\n",
      "50%          10.000000\n",
      "75%          20.000000\n",
      "max         100.000000\n",
      "Name: count, dtype: float64\n",
      "diversity of products per user (describe):\n",
      "count    206209.000000\n",
      "mean         64.536238\n",
      "std          56.592339\n",
      "min           1.000000\n",
      "25%          25.000000\n",
      "50%          48.000000\n",
      "75%          86.000000\n",
      "max         726.000000\n",
      "Name: product_id, dtype: float64\n"
     ]
    }
   ],
   "source": [
    "# Orders per user \n",
    "orders_per_user = orders['user_id'].value_counts()\n",
    "print(\"Orders per user (describe):\")\n",
    "print(orders_per_user.describe())\n",
    "\n",
    "# Diversity of products per user\n",
    "user_unique_products = (\n",
    "    prior_with_users.groupby('user_id')['product_id']\n",
    "    .nunique()\n",
    "    .sort_values(ascending=False)\n",
    ")\n",
    "print(\"diversity of products per user (describe):\")\n",
    "print(user_unique_products.describe())\n"
   ]
  },
  {
   "cell_type": "markdown",
   "id": "2c3a775a-4dbc-465f-aedd-43d910da4dfd",
   "metadata": {},
   "source": [
    "##  What is it?\n",
    "**Basket Analytics**: It is a data science method used to examine the products that customers buy together in a certain time interval and the relationships between these products."
   ]
  },
  {
   "cell_type": "markdown",
   "id": "d097c0a8-1847-40c0-bef5-fea8c6332c9f",
   "metadata": {},
   "source": [
    "## What is it used for?\n",
    "\n",
    "**Forecasting and Strategy Development**: It allows us to predict customers' future purchases based on their shopping habits, so that we can organize the market in a way that will increase our sales, such as daily/hourly.\n",
    "\n",
    "**Example**: We can emphasize more leisure consumption products on different days of the week, for example on Saturday.\n",
    "\n",
    "**Product Placement and Shelf Layout**: If we can understand which products are bought together, we can optimize in-store product placement and shelf layout to increase profits.\n",
    "\n",
    "**Example**: People who buy cola buy chips, people who buy salad ingredients buy lemons, people who buy organic vegetables buy another organic vegetable.\n",
    "\n",
    "**Campaign and Discount Strategies**: When we know which products are bought together, we can increase our sales by campaigning for one and slightly increasing the price of the other, without reducing our profit, since we know that those who buy one will buy the other.\n",
    "\n",
    "**Example**: If the purchase of potato chips increases with the purchase of Coke, we can apply a discount strategy such as 50% discount on potato chips for those who buy Coke.\n",
    "\n",
    "**Inventory Management**: It can be used to regulate the stock of products that increase in sales seasonally or to ensure that the stocks of products sold together are kept equal or close.\n",
    "\n",
    "**Example**: Keeping more stock of umbrellas during rainy periods or keeping close stock of Shampoo and Conditioner."
   ]
  },
  {
   "attachments": {
    "f2e41537-2a06-4ddd-9224-b1f9fe2f2541.png": {
     "image/png": "[encoded data removed]"
    }
   },
   "cell_type": "markdown",
   "id": "56598dc3-9613-4ce8-ae6e-5f83c2064120",
   "metadata": {},
   "source": [
    "![image.png](attachment:f2e41537-2a06-4ddd-9224-b1f9fe2f2541.png)"
   ]
  },
  {
   "cell_type": "code",
   "execution_count": 5,
   "id": "a0a92db8-1f64-4e7f-a767-1684e500acdc",
   "metadata": {},
   "outputs": [
    {
     "data": {
      "text/html": [
       "<div>\n",
       "<style scoped>\n",
       "    .dataframe tbody tr th:only-of-type {\n",
       "        vertical-align: middle;\n",
       "    }\n",
       "\n",
       "    .dataframe tbody tr th {\n",
       "        vertical-align: top;\n",
       "    }\n",
       "\n",
       "    .dataframe thead th {\n",
       "        text-align: right;\n",
       "    }\n",
       "</style>\n",
       "<table border=\"1\" class=\"dataframe\">\n",
       "  <thead>\n",
       "    <tr style=\"text-align: right;\">\n",
       "      <th></th>\n",
       "      <th>order_id</th>\n",
       "      <th>user_id</th>\n",
       "      <th>eval_set</th>\n",
       "      <th>order_number</th>\n",
       "      <th>order_dow</th>\n",
       "      <th>order_hour_of_day</th>\n",
       "      <th>days_since_prior_order</th>\n",
       "    </tr>\n",
       "  </thead>\n",
       "  <tbody>\n",
       "    <tr>\n",
       "      <th>0</th>\n",
       "      <td>2539329</td>\n",
       "      <td>1</td>\n",
       "      <td>prior</td>\n",
       "      <td>1</td>\n",
       "      <td>2</td>\n",
       "      <td>8</td>\n",
       "      <td>NaN</td>\n",
       "    </tr>\n",
       "    <tr>\n",
       "      <th>1</th>\n",
       "      <td>2398795</td>\n",
       "      <td>1</td>\n",
       "      <td>prior</td>\n",
       "      <td>2</td>\n",
       "      <td>3</td>\n",
       "      <td>7</td>\n",
       "      <td>15.0</td>\n",
       "    </tr>\n",
       "    <tr>\n",
       "      <th>2</th>\n",
       "      <td>473747</td>\n",
       "      <td>1</td>\n",
       "      <td>prior</td>\n",
       "      <td>3</td>\n",
       "      <td>3</td>\n",
       "      <td>12</td>\n",
       "      <td>21.0</td>\n",
       "    </tr>\n",
       "    <tr>\n",
       "      <th>3</th>\n",
       "      <td>2254736</td>\n",
       "      <td>1</td>\n",
       "      <td>prior</td>\n",
       "      <td>4</td>\n",
       "      <td>4</td>\n",
       "      <td>7</td>\n",
       "      <td>29.0</td>\n",
       "    </tr>\n",
       "    <tr>\n",
       "      <th>4</th>\n",
       "      <td>431534</td>\n",
       "      <td>1</td>\n",
       "      <td>prior</td>\n",
       "      <td>5</td>\n",
       "      <td>4</td>\n",
       "      <td>15</td>\n",
       "      <td>28.0</td>\n",
       "    </tr>\n",
       "  </tbody>\n",
       "</table>\n",
       "</div>"
      ],
      "text/plain": [
       "   order_id  user_id eval_set  order_number  order_dow  order_hour_of_day  \\\n",
       "0   2539329        1    prior             1          2                  8   \n",
       "1   2398795        1    prior             2          3                  7   \n",
       "2    473747        1    prior             3          3                 12   \n",
       "3   2254736        1    prior             4          4                  7   \n",
       "4    431534        1    prior             5          4                 15   \n",
       "\n",
       "   days_since_prior_order  \n",
       "0                     NaN  \n",
       "1                    15.0  \n",
       "2                    21.0  \n",
       "3                    29.0  \n",
       "4                    28.0  "
      ]
     },
     "execution_count": 5,
     "metadata": {},
     "output_type": "execute_result"
    }
   ],
   "source": [
    "orders = pd.read_csv('data/orders.csv')\n",
    "orders.head()"
   ]
  },
  {
   "attachments": {
    "5edacf32-b9fe-4b81-9159-d764913ef9bf.png": {
     "image/png": "[encoded data removed]"
    }
   },
   "cell_type": "markdown",
   "id": "295cf9a8-28b2-4596-bcd7-15815ebcd15a",
   "metadata": {},
   "source": [
    "![image.png](attachment:5edacf32-b9fe-4b81-9159-d764913ef9bf.png)"
   ]
  },
  {
   "cell_type": "code",
   "execution_count": 6,
   "id": "15899eae-1a18-4984-a2b5-9e725f33d9ac",
   "metadata": {},
   "outputs": [
    {
     "data": {
      "text/plain": [
       "(3421083, 7)"
      ]
     },
     "execution_count": 6,
     "metadata": {},
     "output_type": "execute_result"
    }
   ],
   "source": [
    "orders.shape"
   ]
  },
  {
   "cell_type": "code",
   "execution_count": 7,
   "id": "5ed0b682-1dd7-4262-ae63-41b32a07f685",
   "metadata": {},
   "outputs": [],
   "source": [
    "orders[\"day_hour\"] = [f\"{day}-{hour}\" for day,hour in zip(orders[\"order_dow\"],orders[\"order_hour_of_day\"])]"
   ]
  },
  {
   "cell_type": "code",
   "execution_count": 8,
   "id": "2fc35749-dd37-4b84-985d-f89d1933ac76",
   "metadata": {},
   "outputs": [],
   "source": [
    "orders[\"user_day\"] = [f\"{user}-{day}\" for user,day in zip(orders[\"user_id\"],orders[\"order_dow\"])]"
   ]
  },
  {
   "cell_type": "code",
   "execution_count": 9,
   "id": "f4a8325c-7244-4e85-a8a4-b0bf470718d9",
   "metadata": {},
   "outputs": [],
   "source": [
    "orders = orders[orders[\"eval_set\"]==\"prior\"]"
   ]
  },
  {
   "cell_type": "code",
   "execution_count": 10,
   "id": "4298d807-6a08-4f9b-b612-f92d992dd4a5",
   "metadata": {},
   "outputs": [
    {
     "data": {
      "text/plain": [
       "(3214874, 9)"
      ]
     },
     "execution_count": 10,
     "metadata": {},
     "output_type": "execute_result"
    }
   ],
   "source": [
    "orders.shape"
   ]
  },
  {
   "cell_type": "code",
   "execution_count": 12,
   "id": "380aa0e8-3dff-442b-a430-0e75402b425e",
   "metadata": {},
   "outputs": [
    {
     "data": {
      "text/plain": [
       "order_id                       0\n",
       "user_id                        0\n",
       "eval_set                       0\n",
       "order_number                   0\n",
       "order_dow                      0\n",
       "order_hour_of_day              0\n",
       "days_since_prior_order    206209\n",
       "day_hour                       0\n",
       "user_day                       0\n",
       "dtype: int64"
      ]
     },
     "execution_count": 12,
     "metadata": {},
     "output_type": "execute_result"
    }
   ],
   "source": [
    "orders.isnull().sum()"
   ]
  },
  {
   "cell_type": "code",
   "execution_count": 13,
   "id": "eb30857a-88fa-483f-b7ee-18e7fedbb5d1",
   "metadata": {},
   "outputs": [
    {
     "data": {
      "text/plain": [
       "np.int64(0)"
      ]
     },
     "execution_count": 13,
     "metadata": {},
     "output_type": "execute_result"
    }
   ],
   "source": [
    "orders.duplicated().sum()"
   ]
  },
  {
   "cell_type": "markdown",
   "id": "2d42c4fb-dc8f-484a-ba3b-e3e7a32abbeb",
   "metadata": {},
   "source": [
    "## orders_products_prior"
   ]
  },
  {
   "cell_type": "code",
   "execution_count": 17,
   "id": "8425b54e-e51f-4cee-8ace-ef80d2189d3e",
   "metadata": {},
   "outputs": [],
   "source": [
    "order_products  = pd.read_csv('data/order_products__prior.csv')"
   ]
  },
  {
   "cell_type": "code",
   "execution_count": 18,
   "id": "52b9caa4-9d07-4154-bf34-e1cfba0dfee0",
   "metadata": {},
   "outputs": [
    {
     "data": {
      "text/html": [
       "<div>\n",
       "<style scoped>\n",
       "    .dataframe tbody tr th:only-of-type {\n",
       "        vertical-align: middle;\n",
       "    }\n",
       "\n",
       "    .dataframe tbody tr th {\n",
       "        vertical-align: top;\n",
       "    }\n",
       "\n",
       "    .dataframe thead th {\n",
       "        text-align: right;\n",
       "    }\n",
       "</style>\n",
       "<table border=\"1\" class=\"dataframe\">\n",
       "  <thead>\n",
       "    <tr style=\"text-align: right;\">\n",
       "      <th></th>\n",
       "      <th>order_id</th>\n",
       "      <th>product_id</th>\n",
       "      <th>add_to_cart_order</th>\n",
       "      <th>reordered</th>\n",
       "    </tr>\n",
       "  </thead>\n",
       "  <tbody>\n",
       "    <tr>\n",
       "      <th>0</th>\n",
       "      <td>2</td>\n",
       "      <td>33120</td>\n",
       "      <td>1</td>\n",
       "      <td>1</td>\n",
       "    </tr>\n",
       "    <tr>\n",
       "      <th>1</th>\n",
       "      <td>2</td>\n",
       "      <td>28985</td>\n",
       "      <td>2</td>\n",
       "      <td>1</td>\n",
       "    </tr>\n",
       "    <tr>\n",
       "      <th>2</th>\n",
       "      <td>2</td>\n",
       "      <td>9327</td>\n",
       "      <td>3</td>\n",
       "      <td>0</td>\n",
       "    </tr>\n",
       "    <tr>\n",
       "      <th>3</th>\n",
       "      <td>2</td>\n",
       "      <td>45918</td>\n",
       "      <td>4</td>\n",
       "      <td>1</td>\n",
       "    </tr>\n",
       "    <tr>\n",
       "      <th>4</th>\n",
       "      <td>2</td>\n",
       "      <td>30035</td>\n",
       "      <td>5</td>\n",
       "      <td>0</td>\n",
       "    </tr>\n",
       "  </tbody>\n",
       "</table>\n",
       "</div>"
      ],
      "text/plain": [
       "   order_id  product_id  add_to_cart_order  reordered\n",
       "0         2       33120                  1          1\n",
       "1         2       28985                  2          1\n",
       "2         2        9327                  3          0\n",
       "3         2       45918                  4          1\n",
       "4         2       30035                  5          0"
      ]
     },
     "execution_count": 18,
     "metadata": {},
     "output_type": "execute_result"
    }
   ],
   "source": [
    "order_products.head()"
   ]
  },
  {
   "cell_type": "code",
   "execution_count": 19,
   "id": "e3569f50-07a7-4324-91a8-c9264d6d6c69",
   "metadata": {},
   "outputs": [
    {
     "data": {
      "text/plain": [
       "np.int64(0)"
      ]
     },
     "execution_count": 19,
     "metadata": {},
     "output_type": "execute_result"
    }
   ],
   "source": [
    "order_products.duplicated().sum()"
   ]
  },
  {
   "cell_type": "code",
   "execution_count": 20,
   "id": "6afb6b49-5d9c-4199-979e-2cc42fd12f4c",
   "metadata": {},
   "outputs": [
    {
     "data": {
      "text/html": [
       "<div>\n",
       "<style scoped>\n",
       "    .dataframe tbody tr th:only-of-type {\n",
       "        vertical-align: middle;\n",
       "    }\n",
       "\n",
       "    .dataframe tbody tr th {\n",
       "        vertical-align: top;\n",
       "    }\n",
       "\n",
       "    .dataframe thead th {\n",
       "        text-align: right;\n",
       "    }\n",
       "</style>\n",
       "<table border=\"1\" class=\"dataframe\">\n",
       "  <thead>\n",
       "    <tr style=\"text-align: right;\">\n",
       "      <th></th>\n",
       "      <th>order_id</th>\n",
       "      <th>user_id</th>\n",
       "      <th>product_id</th>\n",
       "      <th>day_hour</th>\n",
       "      <th>user_day</th>\n",
       "    </tr>\n",
       "  </thead>\n",
       "  <tbody>\n",
       "    <tr>\n",
       "      <th>0</th>\n",
       "      <td>2539329</td>\n",
       "      <td>1</td>\n",
       "      <td>196</td>\n",
       "      <td>2-8</td>\n",
       "      <td>1-2</td>\n",
       "    </tr>\n",
       "    <tr>\n",
       "      <th>1</th>\n",
       "      <td>2539329</td>\n",
       "      <td>1</td>\n",
       "      <td>14084</td>\n",
       "      <td>2-8</td>\n",
       "      <td>1-2</td>\n",
       "    </tr>\n",
       "    <tr>\n",
       "      <th>2</th>\n",
       "      <td>2539329</td>\n",
       "      <td>1</td>\n",
       "      <td>12427</td>\n",
       "      <td>2-8</td>\n",
       "      <td>1-2</td>\n",
       "    </tr>\n",
       "    <tr>\n",
       "      <th>3</th>\n",
       "      <td>2539329</td>\n",
       "      <td>1</td>\n",
       "      <td>26088</td>\n",
       "      <td>2-8</td>\n",
       "      <td>1-2</td>\n",
       "    </tr>\n",
       "    <tr>\n",
       "      <th>4</th>\n",
       "      <td>2539329</td>\n",
       "      <td>1</td>\n",
       "      <td>26405</td>\n",
       "      <td>2-8</td>\n",
       "      <td>1-2</td>\n",
       "    </tr>\n",
       "  </tbody>\n",
       "</table>\n",
       "</div>"
      ],
      "text/plain": [
       "   order_id  user_id  product_id day_hour user_day\n",
       "0   2539329        1         196      2-8      1-2\n",
       "1   2539329        1       14084      2-8      1-2\n",
       "2   2539329        1       12427      2-8      1-2\n",
       "3   2539329        1       26088      2-8      1-2\n",
       "4   2539329        1       26405      2-8      1-2"
      ]
     },
     "execution_count": 20,
     "metadata": {},
     "output_type": "execute_result"
    }
   ],
   "source": [
    "df = pd.merge(orders,order_products, how=\"inner\", on=\"order_id\")[[\"order_id\",\"user_id\",\"product_id\",\"day_hour\",\"user_day\"]]\n",
    "df.head()"
   ]
  },
  {
   "cell_type": "code",
   "execution_count": 21,
   "id": "039537f6-cd71-4da6-bd59-a21b7d39dda3",
   "metadata": {},
   "outputs": [
    {
     "data": {
      "text/plain": [
       "(32434489, 5)"
      ]
     },
     "execution_count": 21,
     "metadata": {},
     "output_type": "execute_result"
    }
   ],
   "source": [
    "df.shape"
   ]
  },
  {
   "cell_type": "code",
   "execution_count": 22,
   "id": "1cf38fc9-c873-4435-a436-efb66c121e8b",
   "metadata": {},
   "outputs": [
    {
     "data": {
      "text/plain": [
       "product_id\n",
       "24852    472565\n",
       "13176    379450\n",
       "21137    264683\n",
       "21903    241921\n",
       "47209    213584\n",
       "          ...  \n",
       "31333         1\n",
       "45378         1\n",
       "42464         1\n",
       "30451         1\n",
       "28818         1\n",
       "Name: count, Length: 49677, dtype: int64"
      ]
     },
     "execution_count": 22,
     "metadata": {},
     "output_type": "execute_result"
    }
   ],
   "source": [
    "df[\"product_id\"].value_counts()"
   ]
  },
  {
   "cell_type": "code",
   "execution_count": 23,
   "id": "17a105b7-ae17-422d-b269-780b483c0c80",
   "metadata": {},
   "outputs": [
    {
     "data": {
      "text/plain": [
       "np.float64(652.90756285605)"
      ]
     },
     "execution_count": 23,
     "metadata": {},
     "output_type": "execute_result"
    }
   ],
   "source": [
    "df[\"product_id\"].value_counts().mean()"
   ]
  },
  {
   "cell_type": "markdown",
   "id": "cc61fab0-347b-440b-82b7-056043e65407",
   "metadata": {},
   "source": [
    "##  Statsmodels"
   ]
  },
  {
   "cell_type": "code",
   "execution_count": 26,
   "id": "3a79a4f1-1ff6-49a7-9ad6-13c91c2bbf82",
   "metadata": {},
   "outputs": [],
   "source": [
    "import statsmodels.stats.api as sms"
   ]
  },
  {
   "cell_type": "code",
   "execution_count": 27,
   "id": "64515f5d-cf3a-47dd-9359-70a4603dabb3",
   "metadata": {},
   "outputs": [
    {
     "name": "stdout",
     "output_type": "stream",
     "text": [
      "Lower Confidence Interval: 611\n",
      "Upper Confidence Interval: 695\n"
     ]
    }
   ],
   "source": [
    "low_conf, up_conf = sms.DescrStatsW(df[\"product_id\"].value_counts()).tconfint_mean()\n",
    "print(f\"Lower Confidence Interval: {low_conf:.0f}\")\n",
    "print(f\"Upper Confidence Interval: {up_conf:.0f}\")"
   ]
  },
  {
   "cell_type": "code",
   "execution_count": 28,
   "id": "c58e4627-57e3-44fa-bf48-95ce837c5a59",
   "metadata": {},
   "outputs": [
    {
     "data": {
      "text/plain": [
       "Index([24852, 13176, 21137, 21903, 47209, 47766, 47626, 16797, 26209, 27845,\n",
       "       ...\n",
       "       43148, 28628,  5386, 32420,  4933, 17070, 18102, 24920, 42221, 30278],\n",
       "      dtype='int64', name='product_id', length=7248)"
      ]
     },
     "execution_count": 28,
     "metadata": {},
     "output_type": "execute_result"
    }
   ],
   "source": [
    "important_products = df[\"product_id\"].value_counts()[df[\"product_id\"].value_counts() > low_conf].index\n",
    "important_products"
   ]
  },
  {
   "cell_type": "code",
   "execution_count": 29,
   "id": "c58e97fb-dbe7-438a-a7fe-5cf14a8e7b58",
   "metadata": {},
   "outputs": [
    {
     "data": {
      "text/plain": [
       "user_id\n",
       "201268    3725\n",
       "129928    3638\n",
       "164055    3061\n",
       "186704    2936\n",
       "176478    2921\n",
       "          ... \n",
       "170445       3\n",
       "71648        3\n",
       "38979        3\n",
       "36918        3\n",
       "36904        3\n",
       "Name: count, Length: 206209, dtype: int64"
      ]
     },
     "execution_count": 29,
     "metadata": {},
     "output_type": "execute_result"
    }
   ],
   "source": [
    "df[\"user_id\"].value_counts()"
   ]
  },
  {
   "cell_type": "code",
   "execution_count": 30,
   "id": "7ba473fc-1189-4f88-8fa9-2258b5b473c6",
   "metadata": {},
   "outputs": [
    {
     "data": {
      "text/plain": [
       "(28214831, 5)"
      ]
     },
     "execution_count": 30,
     "metadata": {},
     "output_type": "execute_result"
    }
   ],
   "source": [
    "df = df[df[\"product_id\"].isin(important_products)]\n",
    "df.shape"
   ]
  },
  {
   "cell_type": "code",
   "execution_count": 31,
   "id": "a1ae4cce-c2ed-49a6-b449-9a526da6192c",
   "metadata": {},
   "outputs": [
    {
     "data": {
      "text/plain": [
       "product_id\n",
       "24852    472565\n",
       "13176    379450\n",
       "21137    264683\n",
       "21903    241921\n",
       "47209    213584\n",
       "          ...  \n",
       "24920       611\n",
       "30278       611\n",
       "18102       611\n",
       "32420       611\n",
       "42221       611\n",
       "Name: count, Length: 7248, dtype: int64"
      ]
     },
     "execution_count": 31,
     "metadata": {},
     "output_type": "execute_result"
    }
   ],
   "source": [
    "df[\"product_id\"].value_counts()"
   ]
  },
  {
   "cell_type": "code",
   "execution_count": 32,
   "id": "1358cf4c-c441-43fa-8345-cdf003dbf717",
   "metadata": {},
   "outputs": [
    {
     "name": "stdout",
     "output_type": "stream",
     "text": [
      "Lower Confidence Interval: 136\n",
      "Upper Confidence Interval: 138\n"
     ]
    }
   ],
   "source": [
    "low_conf, up_conf = sms.DescrStatsW(df[\"user_id\"].value_counts()).tconfint_mean()\n",
    "print(f\"Lower Confidence Interval: {low_conf:.0f}\")\n",
    "print(f\"Upper Confidence Interval: {up_conf:.0f}\")"
   ]
  },
  {
   "cell_type": "code",
   "execution_count": 33,
   "id": "976947e7-869c-4eba-9863-a3c28e7ae6ea",
   "metadata": {},
   "outputs": [
    {
     "data": {
      "text/plain": [
       "Index([201268, 129928, 186704, 182401, 137629, 176478, 164055,  79106,  60694,\n",
       "        13701,\n",
       "       ...\n",
       "       156126, 197728, 119603, 179028,  79151, 162295, 184729,  76870, 148272,\n",
       "       170775],\n",
       "      dtype='int64', name='user_id', length=60532)"
      ]
     },
     "execution_count": 33,
     "metadata": {},
     "output_type": "execute_result"
    }
   ],
   "source": [
    "important_baskets = df[\"user_id\"].value_counts()[df[\"user_id\"].value_counts() > low_conf].index\n",
    "important_baskets"
   ]
  },
  {
   "cell_type": "code",
   "execution_count": 34,
   "id": "8ad060b9-109f-490c-927b-c23f426e4ae8",
   "metadata": {},
   "outputs": [
    {
     "data": {
      "text/plain": [
       "(20528009, 5)"
      ]
     },
     "execution_count": 34,
     "metadata": {},
     "output_type": "execute_result"
    }
   ],
   "source": [
    "df = df[df[\"user_id\"].isin(important_baskets)]\n",
    "df.shape"
   ]
  },
  {
   "cell_type": "code",
   "execution_count": 35,
   "id": "57bf09a0-0f1e-4137-9061-247544986547",
   "metadata": {},
   "outputs": [
    {
     "data": {
      "text/plain": [
       "user_id\n",
       "201268    3547\n",
       "129928    3166\n",
       "186704    2712\n",
       "182401    2669\n",
       "137629    2640\n",
       "          ... \n",
       "43305      137\n",
       "122417     137\n",
       "184055     137\n",
       "122810     137\n",
       "122595     137\n",
       "Name: count, Length: 60532, dtype: int64"
      ]
     },
     "execution_count": 35,
     "metadata": {},
     "output_type": "execute_result"
    }
   ],
   "source": [
    "df[\"user_id\"].value_counts()"
   ]
  },
  {
   "cell_type": "code",
   "execution_count": 36,
   "id": "d9728d5b-1534-40a2-bdc1-e3d3a833a627",
   "metadata": {},
   "outputs": [
    {
     "data": {
      "text/html": [
       "<div>\n",
       "<style scoped>\n",
       "    .dataframe tbody tr th:only-of-type {\n",
       "        vertical-align: middle;\n",
       "    }\n",
       "\n",
       "    .dataframe tbody tr th {\n",
       "        vertical-align: top;\n",
       "    }\n",
       "\n",
       "    .dataframe thead th {\n",
       "        text-align: right;\n",
       "    }\n",
       "</style>\n",
       "<table border=\"1\" class=\"dataframe\">\n",
       "  <thead>\n",
       "    <tr style=\"text-align: right;\">\n",
       "      <th>product_id</th>\n",
       "      <th>1</th>\n",
       "      <th>10</th>\n",
       "      <th>23</th>\n",
       "      <th>25</th>\n",
       "      <th>28</th>\n",
       "      <th>34</th>\n",
       "      <th>37</th>\n",
       "      <th>45</th>\n",
       "      <th>49</th>\n",
       "      <th>54</th>\n",
       "      <th>...</th>\n",
       "      <th>49615</th>\n",
       "      <th>49621</th>\n",
       "      <th>49628</th>\n",
       "      <th>49640</th>\n",
       "      <th>49644</th>\n",
       "      <th>49652</th>\n",
       "      <th>49655</th>\n",
       "      <th>49667</th>\n",
       "      <th>49680</th>\n",
       "      <th>49683</th>\n",
       "    </tr>\n",
       "    <tr>\n",
       "      <th>user_id</th>\n",
       "      <th></th>\n",
       "      <th></th>\n",
       "      <th></th>\n",
       "      <th></th>\n",
       "      <th></th>\n",
       "      <th></th>\n",
       "      <th></th>\n",
       "      <th></th>\n",
       "      <th></th>\n",
       "      <th></th>\n",
       "      <th></th>\n",
       "      <th></th>\n",
       "      <th></th>\n",
       "      <th></th>\n",
       "      <th></th>\n",
       "      <th></th>\n",
       "      <th></th>\n",
       "      <th></th>\n",
       "      <th></th>\n",
       "      <th></th>\n",
       "      <th></th>\n",
       "    </tr>\n",
       "  </thead>\n",
       "  <tbody>\n",
       "    <tr>\n",
       "      <th>2</th>\n",
       "      <td>False</td>\n",
       "      <td>False</td>\n",
       "      <td>True</td>\n",
       "      <td>False</td>\n",
       "      <td>False</td>\n",
       "      <td>False</td>\n",
       "      <td>False</td>\n",
       "      <td>False</td>\n",
       "      <td>False</td>\n",
       "      <td>False</td>\n",
       "      <td>...</td>\n",
       "      <td>False</td>\n",
       "      <td>False</td>\n",
       "      <td>False</td>\n",
       "      <td>False</td>\n",
       "      <td>False</td>\n",
       "      <td>False</td>\n",
       "      <td>False</td>\n",
       "      <td>False</td>\n",
       "      <td>False</td>\n",
       "      <td>False</td>\n",
       "    </tr>\n",
       "    <tr>\n",
       "      <th>7</th>\n",
       "      <td>False</td>\n",
       "      <td>False</td>\n",
       "      <td>False</td>\n",
       "      <td>False</td>\n",
       "      <td>False</td>\n",
       "      <td>False</td>\n",
       "      <td>False</td>\n",
       "      <td>False</td>\n",
       "      <td>False</td>\n",
       "      <td>False</td>\n",
       "      <td>...</td>\n",
       "      <td>False</td>\n",
       "      <td>False</td>\n",
       "      <td>False</td>\n",
       "      <td>False</td>\n",
       "      <td>False</td>\n",
       "      <td>False</td>\n",
       "      <td>False</td>\n",
       "      <td>False</td>\n",
       "      <td>False</td>\n",
       "      <td>False</td>\n",
       "    </tr>\n",
       "    <tr>\n",
       "      <th>10</th>\n",
       "      <td>False</td>\n",
       "      <td>False</td>\n",
       "      <td>False</td>\n",
       "      <td>False</td>\n",
       "      <td>False</td>\n",
       "      <td>False</td>\n",
       "      <td>False</td>\n",
       "      <td>False</td>\n",
       "      <td>False</td>\n",
       "      <td>False</td>\n",
       "      <td>...</td>\n",
       "      <td>False</td>\n",
       "      <td>False</td>\n",
       "      <td>False</td>\n",
       "      <td>False</td>\n",
       "      <td>False</td>\n",
       "      <td>False</td>\n",
       "      <td>False</td>\n",
       "      <td>False</td>\n",
       "      <td>False</td>\n",
       "      <td>False</td>\n",
       "    </tr>\n",
       "    <tr>\n",
       "      <th>17</th>\n",
       "      <td>False</td>\n",
       "      <td>False</td>\n",
       "      <td>False</td>\n",
       "      <td>False</td>\n",
       "      <td>False</td>\n",
       "      <td>False</td>\n",
       "      <td>False</td>\n",
       "      <td>False</td>\n",
       "      <td>False</td>\n",
       "      <td>False</td>\n",
       "      <td>...</td>\n",
       "      <td>False</td>\n",
       "      <td>False</td>\n",
       "      <td>False</td>\n",
       "      <td>False</td>\n",
       "      <td>False</td>\n",
       "      <td>False</td>\n",
       "      <td>False</td>\n",
       "      <td>False</td>\n",
       "      <td>False</td>\n",
       "      <td>False</td>\n",
       "    </tr>\n",
       "    <tr>\n",
       "      <th>21</th>\n",
       "      <td>False</td>\n",
       "      <td>False</td>\n",
       "      <td>False</td>\n",
       "      <td>False</td>\n",
       "      <td>False</td>\n",
       "      <td>False</td>\n",
       "      <td>False</td>\n",
       "      <td>False</td>\n",
       "      <td>False</td>\n",
       "      <td>False</td>\n",
       "      <td>...</td>\n",
       "      <td>False</td>\n",
       "      <td>False</td>\n",
       "      <td>False</td>\n",
       "      <td>False</td>\n",
       "      <td>False</td>\n",
       "      <td>False</td>\n",
       "      <td>False</td>\n",
       "      <td>False</td>\n",
       "      <td>False</td>\n",
       "      <td>False</td>\n",
       "    </tr>\n",
       "    <tr>\n",
       "      <th>...</th>\n",
       "      <td>...</td>\n",
       "      <td>...</td>\n",
       "      <td>...</td>\n",
       "      <td>...</td>\n",
       "      <td>...</td>\n",
       "      <td>...</td>\n",
       "      <td>...</td>\n",
       "      <td>...</td>\n",
       "      <td>...</td>\n",
       "      <td>...</td>\n",
       "      <td>...</td>\n",
       "      <td>...</td>\n",
       "      <td>...</td>\n",
       "      <td>...</td>\n",
       "      <td>...</td>\n",
       "      <td>...</td>\n",
       "      <td>...</td>\n",
       "      <td>...</td>\n",
       "      <td>...</td>\n",
       "      <td>...</td>\n",
       "      <td>...</td>\n",
       "    </tr>\n",
       "    <tr>\n",
       "      <th>206201</th>\n",
       "      <td>False</td>\n",
       "      <td>False</td>\n",
       "      <td>False</td>\n",
       "      <td>False</td>\n",
       "      <td>False</td>\n",
       "      <td>False</td>\n",
       "      <td>False</td>\n",
       "      <td>False</td>\n",
       "      <td>False</td>\n",
       "      <td>False</td>\n",
       "      <td>...</td>\n",
       "      <td>False</td>\n",
       "      <td>False</td>\n",
       "      <td>False</td>\n",
       "      <td>False</td>\n",
       "      <td>False</td>\n",
       "      <td>False</td>\n",
       "      <td>False</td>\n",
       "      <td>False</td>\n",
       "      <td>False</td>\n",
       "      <td>True</td>\n",
       "    </tr>\n",
       "    <tr>\n",
       "      <th>206202</th>\n",
       "      <td>False</td>\n",
       "      <td>False</td>\n",
       "      <td>False</td>\n",
       "      <td>False</td>\n",
       "      <td>False</td>\n",
       "      <td>False</td>\n",
       "      <td>False</td>\n",
       "      <td>False</td>\n",
       "      <td>True</td>\n",
       "      <td>False</td>\n",
       "      <td>...</td>\n",
       "      <td>False</td>\n",
       "      <td>False</td>\n",
       "      <td>False</td>\n",
       "      <td>False</td>\n",
       "      <td>False</td>\n",
       "      <td>False</td>\n",
       "      <td>False</td>\n",
       "      <td>False</td>\n",
       "      <td>False</td>\n",
       "      <td>True</td>\n",
       "    </tr>\n",
       "    <tr>\n",
       "      <th>206206</th>\n",
       "      <td>False</td>\n",
       "      <td>False</td>\n",
       "      <td>False</td>\n",
       "      <td>False</td>\n",
       "      <td>False</td>\n",
       "      <td>False</td>\n",
       "      <td>False</td>\n",
       "      <td>False</td>\n",
       "      <td>False</td>\n",
       "      <td>False</td>\n",
       "      <td>...</td>\n",
       "      <td>False</td>\n",
       "      <td>False</td>\n",
       "      <td>False</td>\n",
       "      <td>False</td>\n",
       "      <td>False</td>\n",
       "      <td>False</td>\n",
       "      <td>False</td>\n",
       "      <td>False</td>\n",
       "      <td>False</td>\n",
       "      <td>False</td>\n",
       "    </tr>\n",
       "    <tr>\n",
       "      <th>206207</th>\n",
       "      <td>False</td>\n",
       "      <td>False</td>\n",
       "      <td>False</td>\n",
       "      <td>False</td>\n",
       "      <td>False</td>\n",
       "      <td>False</td>\n",
       "      <td>False</td>\n",
       "      <td>False</td>\n",
       "      <td>False</td>\n",
       "      <td>False</td>\n",
       "      <td>...</td>\n",
       "      <td>False</td>\n",
       "      <td>False</td>\n",
       "      <td>False</td>\n",
       "      <td>False</td>\n",
       "      <td>False</td>\n",
       "      <td>False</td>\n",
       "      <td>False</td>\n",
       "      <td>False</td>\n",
       "      <td>False</td>\n",
       "      <td>False</td>\n",
       "    </tr>\n",
       "    <tr>\n",
       "      <th>206208</th>\n",
       "      <td>False</td>\n",
       "      <td>False</td>\n",
       "      <td>False</td>\n",
       "      <td>False</td>\n",
       "      <td>False</td>\n",
       "      <td>False</td>\n",
       "      <td>False</td>\n",
       "      <td>False</td>\n",
       "      <td>False</td>\n",
       "      <td>False</td>\n",
       "      <td>...</td>\n",
       "      <td>False</td>\n",
       "      <td>True</td>\n",
       "      <td>False</td>\n",
       "      <td>False</td>\n",
       "      <td>False</td>\n",
       "      <td>False</td>\n",
       "      <td>False</td>\n",
       "      <td>False</td>\n",
       "      <td>False</td>\n",
       "      <td>False</td>\n",
       "    </tr>\n",
       "  </tbody>\n",
       "</table>\n",
       "<p>60532 rows × 7248 columns</p>\n",
       "</div>"
      ],
      "text/plain": [
       "product_id  1      10     23     25     28     34     37     45     49     \\\n",
       "user_id                                                                     \n",
       "2           False  False   True  False  False  False  False  False  False   \n",
       "7           False  False  False  False  False  False  False  False  False   \n",
       "10          False  False  False  False  False  False  False  False  False   \n",
       "17          False  False  False  False  False  False  False  False  False   \n",
       "21          False  False  False  False  False  False  False  False  False   \n",
       "...           ...    ...    ...    ...    ...    ...    ...    ...    ...   \n",
       "206201      False  False  False  False  False  False  False  False  False   \n",
       "206202      False  False  False  False  False  False  False  False   True   \n",
       "206206      False  False  False  False  False  False  False  False  False   \n",
       "206207      False  False  False  False  False  False  False  False  False   \n",
       "206208      False  False  False  False  False  False  False  False  False   \n",
       "\n",
       "product_id  54     ...  49615  49621  49628  49640  49644  49652  49655  \\\n",
       "user_id            ...                                                    \n",
       "2           False  ...  False  False  False  False  False  False  False   \n",
       "7           False  ...  False  False  False  False  False  False  False   \n",
       "10          False  ...  False  False  False  False  False  False  False   \n",
       "17          False  ...  False  False  False  False  False  False  False   \n",
       "21          False  ...  False  False  False  False  False  False  False   \n",
       "...           ...  ...    ...    ...    ...    ...    ...    ...    ...   \n",
       "206201      False  ...  False  False  False  False  False  False  False   \n",
       "206202      False  ...  False  False  False  False  False  False  False   \n",
       "206206      False  ...  False  False  False  False  False  False  False   \n",
       "206207      False  ...  False  False  False  False  False  False  False   \n",
       "206208      False  ...  False   True  False  False  False  False  False   \n",
       "\n",
       "product_id  49667  49680  49683  \n",
       "user_id                          \n",
       "2           False  False  False  \n",
       "7           False  False  False  \n",
       "10          False  False  False  \n",
       "17          False  False  False  \n",
       "21          False  False  False  \n",
       "...           ...    ...    ...  \n",
       "206201      False  False   True  \n",
       "206202      False  False   True  \n",
       "206206      False  False  False  \n",
       "206207      False  False  False  \n",
       "206208      False  False  False  \n",
       "\n",
       "[60532 rows x 7248 columns]"
      ]
     },
     "execution_count": 36,
     "metadata": {},
     "output_type": "execute_result"
    }
   ],
   "source": [
    "basket = df.groupby([\"user_id\",\"product_id\"])[\"order_id\"].count().unstack().notnull()\n",
    "basket"
   ]
  },
  {
   "attachments": {
    "33ce2a86-fcb4-4bab-9ddd-f6a5c0f9abff.png": {
     "image/png": "[encoded data removed]"
    }
   },
   "cell_type": "markdown",
   "id": "aebeb39f-c62d-4269-b417-b99f06f235b1",
   "metadata": {},
   "source": [
    "![image.png](attachment:33ce2a86-fcb4-4bab-9ddd-f6a5c0f9abff.png)"
   ]
  },
  {
   "cell_type": "code",
   "execution_count": 38,
   "id": "844f1b6a-01e3-4b20-81fc-1f521f9f5adb",
   "metadata": {},
   "outputs": [],
   "source": [
    "from mlxtend.frequent_patterns import apriori, association_rules"
   ]
  },
  {
   "cell_type": "code",
   "execution_count": 39,
   "id": "131e4b11-624e-4046-9fec-e39a718774ce",
   "metadata": {},
   "outputs": [
    {
     "name": "stdout",
     "output_type": "stream",
     "text": [
      "Processing 580 combinations | Sampling itemset size 5 4\n"
     ]
    },
    {
     "data": {
      "text/html": [
       "<div>\n",
       "<style scoped>\n",
       "    .dataframe tbody tr th:only-of-type {\n",
       "        vertical-align: middle;\n",
       "    }\n",
       "\n",
       "    .dataframe tbody tr th {\n",
       "        vertical-align: top;\n",
       "    }\n",
       "\n",
       "    .dataframe thead th {\n",
       "        text-align: right;\n",
       "    }\n",
       "</style>\n",
       "<table border=\"1\" class=\"dataframe\">\n",
       "  <thead>\n",
       "    <tr style=\"text-align: right;\">\n",
       "      <th></th>\n",
       "      <th>support</th>\n",
       "      <th>itemsets</th>\n",
       "    </tr>\n",
       "  </thead>\n",
       "  <tbody>\n",
       "    <tr>\n",
       "      <th>53</th>\n",
       "      <td>0.545893</td>\n",
       "      <td>(24852)</td>\n",
       "    </tr>\n",
       "    <tr>\n",
       "      <th>40</th>\n",
       "      <td>0.531834</td>\n",
       "      <td>(21137)</td>\n",
       "    </tr>\n",
       "    <tr>\n",
       "      <th>22</th>\n",
       "      <td>0.499851</td>\n",
       "      <td>(13176)</td>\n",
       "    </tr>\n",
       "    <tr>\n",
       "      <th>43</th>\n",
       "      <td>0.464862</td>\n",
       "      <td>(21903)</td>\n",
       "    </tr>\n",
       "    <tr>\n",
       "      <th>57</th>\n",
       "      <td>0.417449</td>\n",
       "      <td>(26209)</td>\n",
       "    </tr>\n",
       "    <tr>\n",
       "      <th>...</th>\n",
       "      <td>...</td>\n",
       "      <td>...</td>\n",
       "    </tr>\n",
       "    <tr>\n",
       "      <th>1079</th>\n",
       "      <td>0.100211</td>\n",
       "      <td>(21137, 45007, 24964, 21903)</td>\n",
       "    </tr>\n",
       "    <tr>\n",
       "      <th>686</th>\n",
       "      <td>0.100211</td>\n",
       "      <td>(26209, 5876, 21903)</td>\n",
       "    </tr>\n",
       "    <tr>\n",
       "      <th>366</th>\n",
       "      <td>0.100079</td>\n",
       "      <td>(21616, 40706)</td>\n",
       "    </tr>\n",
       "    <tr>\n",
       "      <th>469</th>\n",
       "      <td>0.100063</td>\n",
       "      <td>(24852, 39877)</td>\n",
       "    </tr>\n",
       "    <tr>\n",
       "      <th>1045</th>\n",
       "      <td>0.100013</td>\n",
       "      <td>(26209, 47626, 40706)</td>\n",
       "    </tr>\n",
       "  </tbody>\n",
       "</table>\n",
       "<p>1088 rows × 2 columns</p>\n",
       "</div>"
      ],
      "text/plain": [
       "       support                      itemsets\n",
       "53    0.545893                       (24852)\n",
       "40    0.531834                       (21137)\n",
       "22    0.499851                       (13176)\n",
       "43    0.464862                       (21903)\n",
       "57    0.417449                       (26209)\n",
       "...        ...                           ...\n",
       "1079  0.100211  (21137, 45007, 24964, 21903)\n",
       "686   0.100211          (26209, 5876, 21903)\n",
       "366   0.100079                (21616, 40706)\n",
       "469   0.100063                (24852, 39877)\n",
       "1045  0.100013         (26209, 47626, 40706)\n",
       "\n",
       "[1088 rows x 2 columns]"
      ]
     },
     "execution_count": 39,
     "metadata": {},
     "output_type": "execute_result"
    }
   ],
   "source": [
    "frequent_itemsets = apriori(basket,min_support=0.1,use_colnames=True,verbose=1)\n",
    "frequent_itemsets.sort_values(\"support\", ascending=False)"
   ]
  },
  {
   "cell_type": "code",
   "execution_count": 40,
   "id": "78b01158-75b1-4bdf-9015-78aea62733af",
   "metadata": {},
   "outputs": [
    {
     "data": {
      "text/html": [
       "<div>\n",
       "<style scoped>\n",
       "    .dataframe tbody tr th:only-of-type {\n",
       "        vertical-align: middle;\n",
       "    }\n",
       "\n",
       "    .dataframe tbody tr th {\n",
       "        vertical-align: top;\n",
       "    }\n",
       "\n",
       "    .dataframe thead th {\n",
       "        text-align: right;\n",
       "    }\n",
       "</style>\n",
       "<table border=\"1\" class=\"dataframe\">\n",
       "  <thead>\n",
       "    <tr style=\"text-align: right;\">\n",
       "      <th></th>\n",
       "      <th>antecedents</th>\n",
       "      <th>consequents</th>\n",
       "      <th>antecedent support</th>\n",
       "      <th>consequent support</th>\n",
       "      <th>support</th>\n",
       "      <th>confidence</th>\n",
       "      <th>lift</th>\n",
       "      <th>representativity</th>\n",
       "      <th>leverage</th>\n",
       "      <th>conviction</th>\n",
       "      <th>zhangs_metric</th>\n",
       "      <th>jaccard</th>\n",
       "      <th>certainty</th>\n",
       "      <th>kulczynski</th>\n",
       "    </tr>\n",
       "  </thead>\n",
       "  <tbody>\n",
       "    <tr>\n",
       "      <th>1703</th>\n",
       "      <td>(24852)</td>\n",
       "      <td>(13176, 47209)</td>\n",
       "      <td>0.545893</td>\n",
       "      <td>0.273492</td>\n",
       "      <td>0.116897</td>\n",
       "      <td>0.214139</td>\n",
       "      <td>0.782981</td>\n",
       "      <td>1.0</td>\n",
       "      <td>-0.032400</td>\n",
       "      <td>0.924474</td>\n",
       "      <td>-0.379023</td>\n",
       "      <td>0.166404</td>\n",
       "      <td>-0.081696</td>\n",
       "      <td>0.320781</td>\n",
       "    </tr>\n",
       "    <tr>\n",
       "      <th>1698</th>\n",
       "      <td>(13176, 47209)</td>\n",
       "      <td>(24852)</td>\n",
       "      <td>0.273492</td>\n",
       "      <td>0.545893</td>\n",
       "      <td>0.116897</td>\n",
       "      <td>0.427424</td>\n",
       "      <td>0.782981</td>\n",
       "      <td>1.0</td>\n",
       "      <td>-0.032400</td>\n",
       "      <td>0.793094</td>\n",
       "      <td>-0.276155</td>\n",
       "      <td>0.166404</td>\n",
       "      <td>-0.260884</td>\n",
       "      <td>0.320781</td>\n",
       "    </tr>\n",
       "    <tr>\n",
       "      <th>218</th>\n",
       "      <td>(13176)</td>\n",
       "      <td>(24852)</td>\n",
       "      <td>0.499851</td>\n",
       "      <td>0.545893</td>\n",
       "      <td>0.222031</td>\n",
       "      <td>0.444195</td>\n",
       "      <td>0.813703</td>\n",
       "      <td>1.0</td>\n",
       "      <td>-0.050834</td>\n",
       "      <td>0.817025</td>\n",
       "      <td>-0.314018</td>\n",
       "      <td>0.269549</td>\n",
       "      <td>-0.223952</td>\n",
       "      <td>0.425463</td>\n",
       "    </tr>\n",
       "    <tr>\n",
       "      <th>219</th>\n",
       "      <td>(24852)</td>\n",
       "      <td>(13176)</td>\n",
       "      <td>0.545893</td>\n",
       "      <td>0.499851</td>\n",
       "      <td>0.222031</td>\n",
       "      <td>0.406730</td>\n",
       "      <td>0.813703</td>\n",
       "      <td>1.0</td>\n",
       "      <td>-0.050834</td>\n",
       "      <td>0.843038</td>\n",
       "      <td>-0.335184</td>\n",
       "      <td>0.269549</td>\n",
       "      <td>-0.186186</td>\n",
       "      <td>0.425463</td>\n",
       "    </tr>\n",
       "    <tr>\n",
       "      <th>1451</th>\n",
       "      <td>(24852)</td>\n",
       "      <td>(13176, 21137)</td>\n",
       "      <td>0.545893</td>\n",
       "      <td>0.322953</td>\n",
       "      <td>0.145477</td>\n",
       "      <td>0.266493</td>\n",
       "      <td>0.825176</td>\n",
       "      <td>1.0</td>\n",
       "      <td>-0.030821</td>\n",
       "      <td>0.923027</td>\n",
       "      <td>-0.318127</td>\n",
       "      <td>0.201110</td>\n",
       "      <td>-0.083392</td>\n",
       "      <td>0.358475</td>\n",
       "    </tr>\n",
       "    <tr>\n",
       "      <th>...</th>\n",
       "      <td>...</td>\n",
       "      <td>...</td>\n",
       "      <td>...</td>\n",
       "      <td>...</td>\n",
       "      <td>...</td>\n",
       "      <td>...</td>\n",
       "      <td>...</td>\n",
       "      <td>...</td>\n",
       "      <td>...</td>\n",
       "      <td>...</td>\n",
       "      <td>...</td>\n",
       "      <td>...</td>\n",
       "      <td>...</td>\n",
       "      <td>...</td>\n",
       "    </tr>\n",
       "    <tr>\n",
       "      <th>3106</th>\n",
       "      <td>(24964)</td>\n",
       "      <td>(46667, 22935)</td>\n",
       "      <td>0.351302</td>\n",
       "      <td>0.136275</td>\n",
       "      <td>0.104028</td>\n",
       "      <td>0.296120</td>\n",
       "      <td>2.172961</td>\n",
       "      <td>1.0</td>\n",
       "      <td>0.056154</td>\n",
       "      <td>1.227092</td>\n",
       "      <td>0.832126</td>\n",
       "      <td>0.271224</td>\n",
       "      <td>0.185065</td>\n",
       "      <td>0.529743</td>\n",
       "    </tr>\n",
       "    <tr>\n",
       "      <th>3667</th>\n",
       "      <td>(47209, 24964)</td>\n",
       "      <td>(13176, 22935)</td>\n",
       "      <td>0.211657</td>\n",
       "      <td>0.215737</td>\n",
       "      <td>0.102673</td>\n",
       "      <td>0.485092</td>\n",
       "      <td>2.248533</td>\n",
       "      <td>1.0</td>\n",
       "      <td>0.057011</td>\n",
       "      <td>1.523113</td>\n",
       "      <td>0.704345</td>\n",
       "      <td>0.316188</td>\n",
       "      <td>0.343450</td>\n",
       "      <td>0.480505</td>\n",
       "    </tr>\n",
       "    <tr>\n",
       "      <th>3666</th>\n",
       "      <td>(13176, 22935)</td>\n",
       "      <td>(47209, 24964)</td>\n",
       "      <td>0.215737</td>\n",
       "      <td>0.211657</td>\n",
       "      <td>0.102673</td>\n",
       "      <td>0.475917</td>\n",
       "      <td>2.248533</td>\n",
       "      <td>1.0</td>\n",
       "      <td>0.057011</td>\n",
       "      <td>1.504234</td>\n",
       "      <td>0.708010</td>\n",
       "      <td>0.316188</td>\n",
       "      <td>0.335210</td>\n",
       "      <td>0.480505</td>\n",
       "    </tr>\n",
       "    <tr>\n",
       "      <th>3668</th>\n",
       "      <td>(47209, 22935)</td>\n",
       "      <td>(13176, 24964)</td>\n",
       "      <td>0.209691</td>\n",
       "      <td>0.216993</td>\n",
       "      <td>0.102673</td>\n",
       "      <td>0.489640</td>\n",
       "      <td>2.256482</td>\n",
       "      <td>1.0</td>\n",
       "      <td>0.057172</td>\n",
       "      <td>1.534225</td>\n",
       "      <td>0.704575</td>\n",
       "      <td>0.316882</td>\n",
       "      <td>0.348205</td>\n",
       "      <td>0.481402</td>\n",
       "    </tr>\n",
       "    <tr>\n",
       "      <th>3665</th>\n",
       "      <td>(13176, 24964)</td>\n",
       "      <td>(47209, 22935)</td>\n",
       "      <td>0.216993</td>\n",
       "      <td>0.209691</td>\n",
       "      <td>0.102673</td>\n",
       "      <td>0.473163</td>\n",
       "      <td>2.256482</td>\n",
       "      <td>1.0</td>\n",
       "      <td>0.057172</td>\n",
       "      <td>1.500103</td>\n",
       "      <td>0.711146</td>\n",
       "      <td>0.316882</td>\n",
       "      <td>0.333379</td>\n",
       "      <td>0.481402</td>\n",
       "    </tr>\n",
       "  </tbody>\n",
       "</table>\n",
       "<p>3912 rows × 14 columns</p>\n",
       "</div>"
      ],
      "text/plain": [
       "         antecedents     consequents  antecedent support  consequent support  \\\n",
       "1703         (24852)  (13176, 47209)            0.545893            0.273492   \n",
       "1698  (13176, 47209)         (24852)            0.273492            0.545893   \n",
       "218          (13176)         (24852)            0.499851            0.545893   \n",
       "219          (24852)         (13176)            0.545893            0.499851   \n",
       "1451         (24852)  (13176, 21137)            0.545893            0.322953   \n",
       "...              ...             ...                 ...                 ...   \n",
       "3106         (24964)  (46667, 22935)            0.351302            0.136275   \n",
       "3667  (47209, 24964)  (13176, 22935)            0.211657            0.215737   \n",
       "3666  (13176, 22935)  (47209, 24964)            0.215737            0.211657   \n",
       "3668  (47209, 22935)  (13176, 24964)            0.209691            0.216993   \n",
       "3665  (13176, 24964)  (47209, 22935)            0.216993            0.209691   \n",
       "\n",
       "       support  confidence      lift  representativity  leverage  conviction  \\\n",
       "1703  0.116897    0.214139  0.782981               1.0 -0.032400    0.924474   \n",
       "1698  0.116897    0.427424  0.782981               1.0 -0.032400    0.793094   \n",
       "218   0.222031    0.444195  0.813703               1.0 -0.050834    0.817025   \n",
       "219   0.222031    0.406730  0.813703               1.0 -0.050834    0.843038   \n",
       "1451  0.145477    0.266493  0.825176               1.0 -0.030821    0.923027   \n",
       "...        ...         ...       ...               ...       ...         ...   \n",
       "3106  0.104028    0.296120  2.172961               1.0  0.056154    1.227092   \n",
       "3667  0.102673    0.485092  2.248533               1.0  0.057011    1.523113   \n",
       "3666  0.102673    0.475917  2.248533               1.0  0.057011    1.504234   \n",
       "3668  0.102673    0.489640  2.256482               1.0  0.057172    1.534225   \n",
       "3665  0.102673    0.473163  2.256482               1.0  0.057172    1.500103   \n",
       "\n",
       "      zhangs_metric   jaccard  certainty  kulczynski  \n",
       "1703      -0.379023  0.166404  -0.081696    0.320781  \n",
       "1698      -0.276155  0.166404  -0.260884    0.320781  \n",
       "218       -0.314018  0.269549  -0.223952    0.425463  \n",
       "219       -0.335184  0.269549  -0.186186    0.425463  \n",
       "1451      -0.318127  0.201110  -0.083392    0.358475  \n",
       "...             ...       ...        ...         ...  \n",
       "3106       0.832126  0.271224   0.185065    0.529743  \n",
       "3667       0.704345  0.316188   0.343450    0.480505  \n",
       "3666       0.708010  0.316188   0.335210    0.480505  \n",
       "3668       0.704575  0.316882   0.348205    0.481402  \n",
       "3665       0.711146  0.316882   0.333379    0.481402  \n",
       "\n",
       "[3912 rows x 14 columns]"
      ]
     },
     "execution_count": 40,
     "metadata": {},
     "output_type": "execute_result"
    }
   ],
   "source": [
    "rules = association_rules(frequent_itemsets,metric=\"support\",min_threshold=0.01)\n",
    "rules.sort_values(by=\"lift\")"
   ]
  },
  {
   "attachments": {
    "491de0cf-595b-468c-a58f-04120e179592.png": {
     "image/png": "[encoded data removed]"
    }
   },
   "cell_type": "markdown",
   "id": "73c23201-536c-4457-9959-8ec02fabe2e9",
   "metadata": {},
   "source": [
    "![image.png](attachment:491de0cf-595b-468c-a58f-04120e179592.png)"
   ]
  },
  {
   "cell_type": "code",
   "execution_count": 41,
   "id": "ce9008a6-0c0b-4d58-8411-8a97877a2c97",
   "metadata": {},
   "outputs": [
    {
     "data": {
      "text/plain": [
       "47626"
      ]
     },
     "execution_count": 41,
     "metadata": {},
     "output_type": "execute_result"
    }
   ],
   "source": [
    "random_product = rules.sample(1,random_state=45)[\"antecedents\"].explode().iloc[0]\n",
    "random_product"
   ]
  },
  {
   "cell_type": "code",
   "execution_count": 42,
   "id": "44860237-19f5-49bd-941b-14278afb0a7a",
   "metadata": {},
   "outputs": [],
   "source": [
    "lime  = 26209\n",
    "banana = 24852"
   ]
  },
  {
   "cell_type": "code",
   "execution_count": 43,
   "id": "a7461286-6f2c-4425-9125-3460e75984df",
   "metadata": {},
   "outputs": [],
   "source": [
    "def arl_recommender(rules_df, id, rec=1):\n",
    "    sorted_rules = rules_df.sort_values(\"lift\", ascending=False)\n",
    "    recommendation_list = []\n",
    "    for i, k in enumerate(sorted_rules[\"antecedents\"]):\n",
    "        for j in list(k):\n",
    "            if j == id :\n",
    "                for k in list(sorted_rules.iloc[i][\"consequents\"]):\n",
    "                    if k not in recommendation_list:\n",
    "                        recommendation_list.append(k)\n",
    "\n",
    "    return recommendation_list[0:rec]"
   ]
  },
  {
   "cell_type": "code",
   "execution_count": 44,
   "id": "b70bafb8-b764-4523-8da7-966161d026d1",
   "metadata": {},
   "outputs": [
    {
     "data": {
      "text/plain": [
       "[26209, 21903, 24964, 21137, 24852]"
      ]
     },
     "execution_count": 44,
     "metadata": {},
     "output_type": "execute_result"
    }
   ],
   "source": [
    "arl_recommender(rules,random_product,5)"
   ]
  },
  {
   "cell_type": "markdown",
   "id": "9bfd160d-c415-4289-83aa-95afb9388cd0",
   "metadata": {},
   "source": [
    "## products "
   ]
  },
  {
   "cell_type": "code",
   "execution_count": 46,
   "id": "765f8fca-1776-4909-82b3-cc2f87772fd2",
   "metadata": {},
   "outputs": [
    {
     "data": {
      "text/html": [
       "<div>\n",
       "<style scoped>\n",
       "    .dataframe tbody tr th:only-of-type {\n",
       "        vertical-align: middle;\n",
       "    }\n",
       "\n",
       "    .dataframe tbody tr th {\n",
       "        vertical-align: top;\n",
       "    }\n",
       "\n",
       "    .dataframe thead th {\n",
       "        text-align: right;\n",
       "    }\n",
       "</style>\n",
       "<table border=\"1\" class=\"dataframe\">\n",
       "  <thead>\n",
       "    <tr style=\"text-align: right;\">\n",
       "      <th></th>\n",
       "      <th>product_id</th>\n",
       "      <th>product_name</th>\n",
       "      <th>aisle_id</th>\n",
       "      <th>department_id</th>\n",
       "    </tr>\n",
       "  </thead>\n",
       "  <tbody>\n",
       "    <tr>\n",
       "      <th>0</th>\n",
       "      <td>1</td>\n",
       "      <td>Chocolate Sandwich Cookies</td>\n",
       "      <td>61</td>\n",
       "      <td>19</td>\n",
       "    </tr>\n",
       "    <tr>\n",
       "      <th>1</th>\n",
       "      <td>2</td>\n",
       "      <td>All-Seasons Salt</td>\n",
       "      <td>104</td>\n",
       "      <td>13</td>\n",
       "    </tr>\n",
       "    <tr>\n",
       "      <th>2</th>\n",
       "      <td>3</td>\n",
       "      <td>Robust Golden Unsweetened Oolong Tea</td>\n",
       "      <td>94</td>\n",
       "      <td>7</td>\n",
       "    </tr>\n",
       "    <tr>\n",
       "      <th>3</th>\n",
       "      <td>4</td>\n",
       "      <td>Smart Ones Classic Favorites Mini Rigatoni Wit...</td>\n",
       "      <td>38</td>\n",
       "      <td>1</td>\n",
       "    </tr>\n",
       "    <tr>\n",
       "      <th>4</th>\n",
       "      <td>5</td>\n",
       "      <td>Green Chile Anytime Sauce</td>\n",
       "      <td>5</td>\n",
       "      <td>13</td>\n",
       "    </tr>\n",
       "  </tbody>\n",
       "</table>\n",
       "</div>"
      ],
      "text/plain": [
       "   product_id                                       product_name  aisle_id  \\\n",
       "0           1                         Chocolate Sandwich Cookies        61   \n",
       "1           2                                   All-Seasons Salt       104   \n",
       "2           3               Robust Golden Unsweetened Oolong Tea        94   \n",
       "3           4  Smart Ones Classic Favorites Mini Rigatoni Wit...        38   \n",
       "4           5                          Green Chile Anytime Sauce         5   \n",
       "\n",
       "   department_id  \n",
       "0             19  \n",
       "1             13  \n",
       "2              7  \n",
       "3              1  \n",
       "4             13  "
      ]
     },
     "execution_count": 46,
     "metadata": {},
     "output_type": "execute_result"
    }
   ],
   "source": [
    "products = pd.read_csv('data/products.csv')\n",
    "products.head()"
   ]
  },
  {
   "cell_type": "code",
   "execution_count": 47,
   "id": "936f16a5-1846-448c-9463-9544299a99be",
   "metadata": {},
   "outputs": [],
   "source": [
    "def names_of_products(rules_df, bought,recommend = 5):\n",
    "    \n",
    "    rec = arl_recommender(rules_df,bought,recommend)\n",
    "\n",
    "    name_of_rec={}\n",
    "    bought_name = products[products[\"product_id\"]==bought][\"product_name\"].iloc[0]\n",
    "    for i in rec:\n",
    "        name_of_rec[i] = products[products[\"product_id\"]==i][\"product_name\"].iloc[0]\n",
    "    recommend_df = pd.DataFrame(name_of_rec.items(), columns=[\"product_id\",\"product_name\"])\n",
    "    print(f\"Bought: {bought_name}\\n\")\n",
    "    return recommend_df"
   ]
  },
  {
   "cell_type": "code",
   "execution_count": 48,
   "id": "45a8efad-0940-46cb-b305-d0fb3d9c4e94",
   "metadata": {},
   "outputs": [
    {
     "name": "stdout",
     "output_type": "stream",
     "text": [
      "Bought: Large Lemon\n",
      "\n"
     ]
    },
    {
     "data": {
      "text/html": [
       "<div>\n",
       "<style scoped>\n",
       "    .dataframe tbody tr th:only-of-type {\n",
       "        vertical-align: middle;\n",
       "    }\n",
       "\n",
       "    .dataframe tbody tr th {\n",
       "        vertical-align: top;\n",
       "    }\n",
       "\n",
       "    .dataframe thead th {\n",
       "        text-align: right;\n",
       "    }\n",
       "</style>\n",
       "<table border=\"1\" class=\"dataframe\">\n",
       "  <thead>\n",
       "    <tr style=\"text-align: right;\">\n",
       "      <th></th>\n",
       "      <th>product_id</th>\n",
       "      <th>product_name</th>\n",
       "    </tr>\n",
       "  </thead>\n",
       "  <tbody>\n",
       "    <tr>\n",
       "      <th>0</th>\n",
       "      <td>26209</td>\n",
       "      <td>Limes</td>\n",
       "    </tr>\n",
       "    <tr>\n",
       "      <th>1</th>\n",
       "      <td>21903</td>\n",
       "      <td>Organic Baby Spinach</td>\n",
       "    </tr>\n",
       "    <tr>\n",
       "      <th>2</th>\n",
       "      <td>24964</td>\n",
       "      <td>Organic Garlic</td>\n",
       "    </tr>\n",
       "    <tr>\n",
       "      <th>3</th>\n",
       "      <td>21137</td>\n",
       "      <td>Organic Strawberries</td>\n",
       "    </tr>\n",
       "    <tr>\n",
       "      <th>4</th>\n",
       "      <td>24852</td>\n",
       "      <td>Banana</td>\n",
       "    </tr>\n",
       "  </tbody>\n",
       "</table>\n",
       "</div>"
      ],
      "text/plain": [
       "   product_id          product_name\n",
       "0       26209                 Limes\n",
       "1       21903  Organic Baby Spinach\n",
       "2       24964        Organic Garlic\n",
       "3       21137  Organic Strawberries\n",
       "4       24852                Banana"
      ]
     },
     "execution_count": 48,
     "metadata": {},
     "output_type": "execute_result"
    }
   ],
   "source": [
    "names_of_products(rules,random_product,5)"
   ]
  },
  {
   "attachments": {
    "2cb5e5bf-9d6e-47ae-80a7-279deed2a6bf.png": {
     "image/png": "[encoded data removed]"
    }
   },
   "cell_type": "markdown",
   "id": "8e33ced6-b99e-4ba7-a815-6068493fdf81",
   "metadata": {},
   "source": [
    "![image.png](attachment:2cb5e5bf-9d6e-47ae-80a7-279deed2a6bf.png)"
   ]
  },
  {
   "cell_type": "code",
   "execution_count": 49,
   "id": "32bf0550-e787-49c2-858d-c3465155521a",
   "metadata": {},
   "outputs": [],
   "source": [
    "from mlxtend.frequent_patterns import hmine"
   ]
  },
  {
   "cell_type": "code",
   "execution_count": 50,
   "id": "1f1c6076-37ed-4314-8527-0e8e3cfdbccc",
   "metadata": {},
   "outputs": [
    {
     "data": {
      "text/html": [
       "<div>\n",
       "<style scoped>\n",
       "    .dataframe tbody tr th:only-of-type {\n",
       "        vertical-align: middle;\n",
       "    }\n",
       "\n",
       "    .dataframe tbody tr th {\n",
       "        vertical-align: top;\n",
       "    }\n",
       "\n",
       "    .dataframe thead th {\n",
       "        text-align: right;\n",
       "    }\n",
       "</style>\n",
       "<table border=\"1\" class=\"dataframe\">\n",
       "  <thead>\n",
       "    <tr style=\"text-align: right;\">\n",
       "      <th></th>\n",
       "      <th>support</th>\n",
       "      <th>itemsets</th>\n",
       "    </tr>\n",
       "  </thead>\n",
       "  <tbody>\n",
       "    <tr>\n",
       "      <th>11508</th>\n",
       "      <td>0.545893</td>\n",
       "      <td>(24852)</td>\n",
       "    </tr>\n",
       "    <tr>\n",
       "      <th>6871</th>\n",
       "      <td>0.531834</td>\n",
       "      <td>(21137)</td>\n",
       "    </tr>\n",
       "    <tr>\n",
       "      <th>3534</th>\n",
       "      <td>0.499851</td>\n",
       "      <td>(13176)</td>\n",
       "    </tr>\n",
       "    <tr>\n",
       "      <th>9244</th>\n",
       "      <td>0.464862</td>\n",
       "      <td>(21903)</td>\n",
       "    </tr>\n",
       "    <tr>\n",
       "      <th>12523</th>\n",
       "      <td>0.417449</td>\n",
       "      <td>(26209)</td>\n",
       "    </tr>\n",
       "    <tr>\n",
       "      <th>...</th>\n",
       "      <td>...</td>\n",
       "      <td>...</td>\n",
       "    </tr>\n",
       "    <tr>\n",
       "      <th>857</th>\n",
       "      <td>0.050007</td>\n",
       "      <td>(4920, 49683, 47766)</td>\n",
       "    </tr>\n",
       "    <tr>\n",
       "      <th>10065</th>\n",
       "      <td>0.050007</td>\n",
       "      <td>(26209, 47209, 47626, 21903, 47766)</td>\n",
       "    </tr>\n",
       "    <tr>\n",
       "      <th>5048</th>\n",
       "      <td>0.050007</td>\n",
       "      <td>(13176, 26209, 47626, 46667)</td>\n",
       "    </tr>\n",
       "    <tr>\n",
       "      <th>9542</th>\n",
       "      <td>0.050007</td>\n",
       "      <td>(24489, 26209, 21903)</td>\n",
       "    </tr>\n",
       "    <tr>\n",
       "      <th>9799</th>\n",
       "      <td>0.050007</td>\n",
       "      <td>(28985, 45007, 24964, 21903)</td>\n",
       "    </tr>\n",
       "  </tbody>\n",
       "</table>\n",
       "<p>14428 rows × 2 columns</p>\n",
       "</div>"
      ],
      "text/plain": [
       "        support                             itemsets\n",
       "11508  0.545893                              (24852)\n",
       "6871   0.531834                              (21137)\n",
       "3534   0.499851                              (13176)\n",
       "9244   0.464862                              (21903)\n",
       "12523  0.417449                              (26209)\n",
       "...         ...                                  ...\n",
       "857    0.050007                 (4920, 49683, 47766)\n",
       "10065  0.050007  (26209, 47209, 47626, 21903, 47766)\n",
       "5048   0.050007         (13176, 26209, 47626, 46667)\n",
       "9542   0.050007                (24489, 26209, 21903)\n",
       "9799   0.050007         (28985, 45007, 24964, 21903)\n",
       "\n",
       "[14428 rows x 2 columns]"
      ]
     },
     "execution_count": 50,
     "metadata": {},
     "output_type": "execute_result"
    }
   ],
   "source": [
    "frequent_itemsets = hmine(basket,min_support=0.05,use_colnames=True)\n",
    "frequent_itemsets.sort_values(\"support\", ascending=False)"
   ]
  },
  {
   "attachments": {
    "d4111aef-7964-4217-92bf-0ab8d187b2a5.png": {
     "image/png": "[encoded data removed]"
    }
   },
   "cell_type": "markdown",
   "id": "64cfb41a-addc-48a8-bc51-33d4f2b404b4",
   "metadata": {},
   "source": [
    "![image.png](attachment:d4111aef-7964-4217-92bf-0ab8d187b2a5.png)"
   ]
  },
  {
   "cell_type": "code",
   "execution_count": 51,
   "id": "8f419711-3a94-4691-a65d-5d541498caf7",
   "metadata": {},
   "outputs": [],
   "source": [
    "from mlxtend.frequent_patterns import fpgrowth"
   ]
  },
  {
   "cell_type": "code",
   "execution_count": 52,
   "id": "39a4cfce-17c2-4156-bfac-1601903810f7",
   "metadata": {},
   "outputs": [
    {
     "data": {
      "text/html": [
       "<div>\n",
       "<style scoped>\n",
       "    .dataframe tbody tr th:only-of-type {\n",
       "        vertical-align: middle;\n",
       "    }\n",
       "\n",
       "    .dataframe tbody tr th {\n",
       "        vertical-align: top;\n",
       "    }\n",
       "\n",
       "    .dataframe thead th {\n",
       "        text-align: right;\n",
       "    }\n",
       "</style>\n",
       "<table border=\"1\" class=\"dataframe\">\n",
       "  <thead>\n",
       "    <tr style=\"text-align: right;\">\n",
       "      <th></th>\n",
       "      <th>support</th>\n",
       "      <th>itemsets</th>\n",
       "    </tr>\n",
       "  </thead>\n",
       "  <tbody>\n",
       "    <tr>\n",
       "      <th>0</th>\n",
       "      <td>0.545893</td>\n",
       "      <td>(24852)</td>\n",
       "    </tr>\n",
       "    <tr>\n",
       "      <th>31</th>\n",
       "      <td>0.531834</td>\n",
       "      <td>(21137)</td>\n",
       "    </tr>\n",
       "    <tr>\n",
       "      <th>1</th>\n",
       "      <td>0.499851</td>\n",
       "      <td>(13176)</td>\n",
       "    </tr>\n",
       "    <tr>\n",
       "      <th>125</th>\n",
       "      <td>0.464862</td>\n",
       "      <td>(21903)</td>\n",
       "    </tr>\n",
       "    <tr>\n",
       "      <th>32</th>\n",
       "      <td>0.417449</td>\n",
       "      <td>(26209)</td>\n",
       "    </tr>\n",
       "    <tr>\n",
       "      <th>...</th>\n",
       "      <td>...</td>\n",
       "      <td>...</td>\n",
       "    </tr>\n",
       "    <tr>\n",
       "      <th>7389</th>\n",
       "      <td>0.050007</td>\n",
       "      <td>(26209, 24964, 47209, 34126, 13176)</td>\n",
       "    </tr>\n",
       "    <tr>\n",
       "      <th>4891</th>\n",
       "      <td>0.050007</td>\n",
       "      <td>(26209, 40706, 16797, 21903)</td>\n",
       "    </tr>\n",
       "    <tr>\n",
       "      <th>910</th>\n",
       "      <td>0.050007</td>\n",
       "      <td>(13176, 21137, 45066, 21903)</td>\n",
       "    </tr>\n",
       "    <tr>\n",
       "      <th>6027</th>\n",
       "      <td>0.050007</td>\n",
       "      <td>(13176, 27104, 24964, 31717)</td>\n",
       "    </tr>\n",
       "    <tr>\n",
       "      <th>12958</th>\n",
       "      <td>0.050007</td>\n",
       "      <td>(39275, 9839)</td>\n",
       "    </tr>\n",
       "  </tbody>\n",
       "</table>\n",
       "<p>14428 rows × 2 columns</p>\n",
       "</div>"
      ],
      "text/plain": [
       "        support                             itemsets\n",
       "0      0.545893                              (24852)\n",
       "31     0.531834                              (21137)\n",
       "1      0.499851                              (13176)\n",
       "125    0.464862                              (21903)\n",
       "32     0.417449                              (26209)\n",
       "...         ...                                  ...\n",
       "7389   0.050007  (26209, 24964, 47209, 34126, 13176)\n",
       "4891   0.050007         (26209, 40706, 16797, 21903)\n",
       "910    0.050007         (13176, 21137, 45066, 21903)\n",
       "6027   0.050007         (13176, 27104, 24964, 31717)\n",
       "12958  0.050007                        (39275, 9839)\n",
       "\n",
       "[14428 rows x 2 columns]"
      ]
     },
     "execution_count": 52,
     "metadata": {},
     "output_type": "execute_result"
    }
   ],
   "source": [
    "frequent_itemsets = fpgrowth(basket,min_support=0.05,use_colnames=True)\n",
    "frequent_itemsets.sort_values(\"support\", ascending=False)"
   ]
  }
 ],
 "metadata": {
  "kernelspec": {
   "display_name": "Python 3 (ipykernel)",
   "language": "python",
   "name": "python3"
  },
  "language_info": {
   "codemirror_mode": {
    "name": "ipython",
    "version": 3
   },
   "file_extension": ".py",
   "mimetype": "text/x-python",
   "name": "python",
   "nbconvert_exporter": "python",
   "pygments_lexer": "ipython3",
   "version": "3.11.1"
  }
 },
 "nbformat": 4,
 "nbformat_minor": 5
}
