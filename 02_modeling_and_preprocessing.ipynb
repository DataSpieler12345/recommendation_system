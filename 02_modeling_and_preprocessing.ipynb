{
 "cells": [
  {
   "cell_type": "markdown",
   "id": "e2eae143-a82f-4bc7-afde-c5d848d273bc",
   "metadata": {},
   "source": [
    "# Modeling and Preprocessing\n",
    "* 1. **EDA & Data Cleaning**: Explored reorder rates and user behavior, verified consistency.\n",
    "\n",
    "* 2. **Train/Test Split (Section 4)**: Held out each user’s last order, built CSR user×item matrices.\n",
    "\n",
    "* 3. **Model Training (Section 5)**: Fitted ALS on the correct items×users matrix so that factors align perfectly.\n",
    "\n",
    "* 4. **Generating Recommendations (Section 6)**: Pulled Top-10 new recommendations per user, mapped back to product names.\n",
    "\n",
    "* 5. **Model Evaluation (Section 7)**: Computed Recall@K and Precision@K over a sampled user set without any index errors.\n",
    "\n",
    "* 6. **Visualization & Reporting (Section 8)**: Plotted metrics, produced styled tables for quick insight.\n"
   ]
  },
  {
   "cell_type": "markdown",
   "id": "903369dd-6130-4dd9-b831-0054cdbe1748",
   "metadata": {},
   "source": [
    "## 1. Import Libraries and Configuration\n",
    "Import all necessary libraries, set up configurations, and define file paths and random seeds for reproducibility."
   ]
  },
  {
   "cell_type": "code",
   "execution_count": 1,
   "id": "61dc94db-b72b-4334-8531-a6a07a2355e9",
   "metadata": {},
   "outputs": [],
   "source": [
    "import pandas as pd\n",
    "import numpy as np\n",
    "import scipy.sparse as sp\n",
    "from implicit.als import AlternatingLeastSquares\n",
    "import matplotlib.pyplot as plt\n",
    "import seaborn as sns\n",
    "\n",
    "import warnings\n",
    "warnings.filterwarnings('ignore')\n",
    "\n",
    "\n",
    "# Optional: Set OpenBLAS to use 1 thread for stability\n",
    "import os\n",
    "os.environ[\"OPENBLAS_NUM_THREADS\"] = \"1\"\n"
   ]
  },
  {
   "cell_type": "markdown",
   "id": "19497f22-08bb-4ea2-befa-c340010578ad",
   "metadata": {},
   "source": [
    "## 2. Load and Prepare Data\n",
    "Load the datasets (orders, prior orders, and products). Perform initial checks to ensure data integrity and consistency.\n"
   ]
  },
  {
   "cell_type": "code",
   "execution_count": 2,
   "id": "2f5d73cb-c2ad-491e-886c-aead0f52af36",
   "metadata": {},
   "outputs": [],
   "source": [
    "# Load the clean data from your EDA step\n",
    "orders = pd.read_csv('data/orders.csv')\n",
    "prior = pd.read_csv('data/order_products__prior.csv')\n",
    "products = pd.read_csv('data/products.csv')\n",
    "\n",
    "# Merge user_id into the prior DataFrame\n",
    "prior_with_users = prior.merge(\n",
    "    orders[['order_id', 'user_id']],\n",
    "    on='order_id',\n",
    "    how='left'\n",
    ")\n"
   ]
  },
  {
   "cell_type": "code",
   "execution_count": 3,
   "id": "9b4e0f56-3c79-4c28-bb14-a689242ce347",
   "metadata": {},
   "outputs": [
    {
     "name": "stdout",
     "output_type": "stream",
     "text": [
      "orders shape: (3421083, 7)\n",
      "prior shape: (32434489, 4)\n",
      "products shape: (49688, 4)\n",
      "prior_with_users shape: (32434489, 5)\n",
      "   order_id  product_id  add_to_cart_order  reordered  user_id\n",
      "0         2       33120                  1          1   202279\n",
      "1         2       28985                  2          1   202279\n",
      "2         2        9327                  3          0   202279\n",
      "3         2       45918                  4          1   202279\n",
      "4         2       30035                  5          0   202279\n"
     ]
    }
   ],
   "source": [
    "print(f\"orders shape: {orders.shape}\")\n",
    "print(f\"prior shape: {prior.shape}\")\n",
    "print(f\"products shape: {products.shape}\")\n",
    "print(f\"prior_with_users shape: {prior_with_users.shape}\")\n",
    "print(prior_with_users.head())"
   ]
  },
  {
   "cell_type": "markdown",
   "id": "24a3b960-7b2f-46ab-a7f7-718a42a039d3",
   "metadata": {},
   "source": [
    "## 3. Preprocessing: Build User–Product Matrix \n",
    "Construct the user–product interaction matrix using all available data. This matrix provides an overview of all user purchase behaviors and will be used for reference."
   ]
  },
  {
   "cell_type": "code",
   "execution_count": 4,
   "id": "c75de8e5-43a2-41b4-a8b9-2ee1d4c6d228",
   "metadata": {},
   "outputs": [
    {
     "name": "stdout",
     "output_type": "stream",
     "text": [
      "Train matrix shape: (206209, 49677), nnz=13248311\n",
      "Test  matrix shape: (206209, 49677), nnz=206209\n"
     ]
    }
   ],
   "source": [
    "import numpy as np\n",
    "import pandas as pd\n",
    "import scipy.sparse as sp\n",
    "\n",
    "# --- 1. Load the raw data ---\n",
    "orders = pd.read_csv('data/orders.csv')\n",
    "prior  = pd.read_csv('data/order_products__prior.csv')\n",
    "# Si ya lo cargaste arriba, puedes omitir esto\n",
    "\n",
    "# --- 2. Merge prior and orders to get user_id and order_number ---\n",
    "prior_with_users = prior.merge(\n",
    "    orders[['order_id', 'user_id', 'order_number']],   # <-- Asegura order_number aquí\n",
    "    on='order_id',\n",
    "    how='left'\n",
    ")\n",
    "\n",
    "# --- 3. Build global user/product index before splitting (crucial!) ---\n",
    "all_user_ids = prior_with_users['user_id'].unique()\n",
    "all_product_ids = prior_with_users['product_id'].unique()\n",
    "user2idx = {u: i for i, u in enumerate(all_user_ids)}\n",
    "prod2idx = {p: j for j, p in enumerate(all_product_ids)}\n",
    "\n",
    "# --- 4. Train/test split: last order of each user as test, rest as train ---\n",
    "orders_sorted = prior_with_users.sort_values(['user_id', 'order_number'])\n",
    "last_orders = orders_sorted.groupby('user_id')['order_number'].idxmax()\n",
    "test_prior_with_users = orders_sorted.loc[last_orders]\n",
    "train_prior_with_users = orders_sorted.drop(last_orders)\n",
    "\n",
    "# --- 5. Function to build user-product matrix given a DataFrame and global indices ---\n",
    "def build_user_product_matrix(df, all_user_ids, all_product_ids):\n",
    "    rows = df['user_id'].map(user2idx)\n",
    "    cols = df['product_id'].map(prod2idx)\n",
    "    mask = rows.notna() & cols.notna()\n",
    "    rows = rows[mask].astype(int)\n",
    "    cols = cols[mask].astype(int)\n",
    "    data = np.ones(len(rows), dtype=np.float32)  # Use 1 for implicit feedback\n",
    "\n",
    "    matrix = sp.coo_matrix(\n",
    "        (data, (rows, cols)),\n",
    "        shape=(len(all_user_ids), len(all_product_ids))\n",
    "    ).tocsr()\n",
    "    return matrix\n",
    "\n",
    "# --- 6. Build train and test matrices ---\n",
    "train_matrix = build_user_product_matrix(train_prior_with_users, all_user_ids, all_product_ids)\n",
    "test_matrix  = build_user_product_matrix(test_prior_with_users, all_user_ids, all_product_ids)\n",
    "\n",
    "print(f\"Train matrix shape: {train_matrix.shape}, nnz={train_matrix.nnz}\")\n",
    "print(f\"Test  matrix shape: {test_matrix.shape}, nnz={test_matrix.nnz}\")\n"
   ]
  },
  {
   "cell_type": "markdown",
   "id": "aad9118d-1de6-41e5-9b52-6e67cffca054",
   "metadata": {},
   "source": [
    "## 4. Train/Test Split for Evaluation\n",
    "Split the data into training and test sets using a holdout strategy (e.g., the last order of each user for testing). Construct train and test user–product matrices to enable offline evaluation of recommendation quality."
   ]
  },
  {
   "cell_type": "code",
   "execution_count": 5,
   "id": "ff2bb200-ba23-4ecd-aaab-cc090d74bf0e",
   "metadata": {},
   "outputs": [
    {
     "name": "stdout",
     "output_type": "stream",
     "text": [
      "Train matrix shape: (206209, 49677), nnz=13248311\n",
      "Test  matrix shape: (206209, 49677),  nnz=206209\n"
     ]
    }
   ],
   "source": [
    "# ─── Section 4: Train/Test Split for Evaluation ───\n",
    "import numpy as np\n",
    "import scipy.sparse as sp\n",
    "\n",
    "# 4.1 Build global user/product index before splitting\n",
    "all_user_ids    = prior_with_users['user_id'].unique()\n",
    "all_product_ids = prior_with_users['product_id'].unique()\n",
    "user2idx        = {u:i for i,u in enumerate(all_user_ids)}\n",
    "prod2idx        = {p:j for j,p in enumerate(all_product_ids)}\n",
    "\n",
    "# 4.2 Split: last order per user → test, rest → train\n",
    "orders_sorted       = prior_with_users.sort_values(['user_id','order_number'])\n",
    "last_order_idx      = orders_sorted.groupby('user_id')['order_number'].idxmax()\n",
    "test_prior_with_users  = orders_sorted.loc[last_order_idx]\n",
    "train_prior_with_users = orders_sorted.drop(last_order_idx)\n",
    "\n",
    "# 4.3 Function to build a CSR user×item matrix (implicit feedback=1)\n",
    "def build_user_product_matrix(df):\n",
    "    rows = df['user_id'].map(user2idx).astype(int)\n",
    "    cols = df['product_id'].map(prod2idx).astype(int)\n",
    "    data = np.ones(len(rows), dtype=np.float32)\n",
    "    return (\n",
    "        sp.coo_matrix(\n",
    "            (data, (rows, cols)),\n",
    "            shape=(len(all_user_ids), len(all_product_ids))\n",
    "        )\n",
    "        .tocsr()\n",
    "    )\n",
    "\n",
    "# 4.4 Build train and test matrices\n",
    "train_matrix = build_user_product_matrix(train_prior_with_users)\n",
    "test_matrix  = build_user_product_matrix(test_prior_with_users)\n",
    "\n",
    "print(f\"Train matrix shape: {train_matrix.shape}, nnz={train_matrix.nnz}\")\n",
    "print(f\"Test  matrix shape: {test_matrix.shape},  nnz={test_matrix.nnz}\")\n"
   ]
  },
  {
   "cell_type": "markdown",
   "id": "859afb06-5726-4adb-8737-1d49ef03a18d",
   "metadata": {},
   "source": [
    "## 5. Model Training (ALS)\n",
    "Train an Alternating Least Squares (ALS) collaborative filtering model on the training user–product matrix to learn latent user and product factors for recommendation."
   ]
  },
  {
   "cell_type": "code",
   "execution_count": 11,
   "id": "6097f274-5f81-424c-af56-668287fe6aee",
   "metadata": {},
   "outputs": [
    {
     "name": "stdout",
     "output_type": "stream",
     "text": [
      "train_matrix (users×items): users = 206209, items = 49677\n",
      "Fitting ALS on train_matrix (users × items)…\n"
     ]
    },
    {
     "data": {
      "application/vnd.jupyter.widget-view+json": {
       "model_id": "8a4ef9080b82417e9261b1ce0a0c4986",
       "version_major": 2,
       "version_minor": 0
      },
      "text/plain": [
       "  0%|          | 0/20 [00:00<?, ?it/s]"
      ]
     },
     "metadata": {},
     "output_type": "display_data"
    },
    {
     "name": "stdout",
     "output_type": "stream",
     "text": [
      "Model training complete.\n",
      "\n",
      "→ user_factors shape: (206209, 50)   # should be (n_users, factors)\n",
      "→ item_factors shape: (49677, 50)   # should be (n_items, factors)\n"
     ]
    }
   ],
   "source": [
    "# ─── Section 5: Model Training (ALS) ───\n",
    "from implicit.als import AlternatingLeastSquares\n",
    "\n",
    "# 5.1 Sanity‐check: training matrix is (n_users × n_items)\n",
    "n_users, n_items = train_matrix.shape\n",
    "print(f\"train_matrix (users×items): users = {n_users}, items = {n_items}\")\n",
    "\n",
    "# 5.2 Initialize the ALS model\n",
    "als_model = AlternatingLeastSquares(\n",
    "    factors=50,\n",
    "    regularization=0.01,\n",
    "    iterations=20,\n",
    "    random_state=42    # for reproducibility\n",
    ")\n",
    "\n",
    "# 5.3 Fit on the user×item matrix (no transpose!)\n",
    "print(\"Fitting ALS on train_matrix (users × items)…\")\n",
    "als_model.fit(train_matrix)\n",
    "print(\"Model training complete.\\n\")\n",
    "\n",
    "# 5.4 Verify learned factor shapes\n",
    "print(f\"→ user_factors shape: {als_model.user_factors.shape}   # should be (n_users, factors)\")\n",
    "print(f\"→ item_factors shape: {als_model.item_factors.shape}   # should be (n_items, factors)\")\n"
   ]
  },
  {
   "cell_type": "markdown",
   "id": "693060bd-bc38-40f2-91a8-300afd12f6e3",
   "metadata": {},
   "source": [
    "## 6. Generating Recommendations\n",
    "Use the trained ALS model to generate top-10 product recommendations for each user, mapping recommended item indices back to real product names.\n"
   ]
  },
  {
   "cell_type": "code",
   "execution_count": 12,
   "id": "f2998b1a-2243-4b9c-bcbe-34a5473c6e55",
   "metadata": {},
   "outputs": [
    {
     "name": "stdout",
     "output_type": "stream",
     "text": [
      "Internal index for user_id 202279 is 0\n",
      "\n",
      "Top 10 NEW recommendations for user 202279:\n",
      "\n",
      "Yellow Onions                             score = 0.4422\n",
      "Total 0% Greek Yogurt                     score = 0.3685\n",
      "Organic Baby Spinach                      score = 0.3547\n",
      "Boneless Skinless Chicken Breasts         score = 0.3156\n",
      "Fresh Cauliflower                         score = 0.2825\n",
      "Organic Lacinato (Dinosaur) Kale          score = 0.2796\n",
      "Organic Small Bunch Celery                score = 0.2648\n",
      "Organic Zucchini                          score = 0.2516\n",
      "Unsweetened Original Almond Breeze Almond Milk  score = 0.2484\n",
      "Organic Garnet Sweet Potato (Yam)         score = 0.2451\n"
     ]
    }
   ],
   "source": [
    "# ─── Section 6: Generating Top-10 “New” Recommendations ───\n",
    "\n",
    "import numpy as np\n",
    "\n",
    "# 6.1 Pick a real user_id and look up its internal index\n",
    "target_user_id  = 202279                 # ← change to any real user_id\n",
    "target_user_idx = user2idx[target_user_id]\n",
    "print(f\"Internal index for user_id {target_user_id} is {target_user_idx}\\n\")\n",
    "\n",
    "# 6.2 Generate a “buffer” of K_extra recs, filtering out seen items\n",
    "K       = 10                             # how many you actually want to show\n",
    "K_extra = K * 2                          # request more so we can trim to exactly K\n",
    "raw_item_idxs, raw_scores = als_model.recommend(\n",
    "    userid=target_user_idx,              # must be the internal index\n",
    "    user_items=train_matrix[target_user_idx],\n",
    "    N=K_extra,\n",
    "    filter_already_liked_items=True      # exclude things the user already interacted with\n",
    ")\n",
    "\n",
    "# 6.3 Truncate to the first K valid\n",
    "valid = [(i, s) for i, s in zip(raw_item_idxs, raw_scores) if i < len(all_product_ids)]\n",
    "topK = valid[:K]\n",
    "\n",
    "# 6.4 Map back to real product_ids and then to product_names\n",
    "recommended_pids   = [all_product_ids[i] for i, _ in topK]\n",
    "recommended_names  = products.loc[\n",
    "    products.product_id.isin(recommended_pids), \n",
    "    'product_name'\n",
    "].values\n",
    "\n",
    "# 6.5 Print the Top-K\n",
    "print(f\"Top {K} NEW recommendations for user {target_user_id}:\\n\")\n",
    "for (idx, score), name in zip(topK, recommended_names):\n",
    "    print(f\"{name:<40}  score = {score:.4f}\")\n"
   ]
  },
  {
   "cell_type": "markdown",
   "id": "2c13ef1f-caeb-4f1b-9e4c-ed90b0292320",
   "metadata": {},
   "source": [
    "## 7. Model Evaluation (Recall@K, Precision@K, etc.)\n",
    "Assess the quality of recommendations using offline metrics such as Recall@K and Precision@K by comparing the recommended products to those actually purchased in the test set."
   ]
  },
  {
   "cell_type": "code",
   "execution_count": 13,
   "id": "83852360-f798-4365-a418-7bd1b7946848",
   "metadata": {},
   "outputs": [
    {
     "name": "stdout",
     "output_type": "stream",
     "text": [
      "train_matrix.shape       = (206209, 49677)\n",
      "test_matrix.shape        = (206209, 49677)\n",
      "ALS user_factors length  = 206209\n"
     ]
    }
   ],
   "source": [
    "# Verify shapes and factor lengths\n",
    "print(\"train_matrix.shape       =\", train_matrix.shape)\n",
    "print(\"test_matrix.shape        =\", test_matrix.shape)\n",
    "print(\"ALS user_factors length  =\", als_model.user_factors.shape[0])  # should now print 206209"
   ]
  },
  {
   "cell_type": "code",
   "execution_count": 14,
   "id": "2e589f65-7108-46b0-957f-1da90fbd2659",
   "metadata": {},
   "outputs": [
    {
     "name": "stdout",
     "output_type": "stream",
     "text": [
      "train_matrix.shape       = (206209, 49677)\n",
      "test_matrix.shape        = (206209, 49677)\n",
      "ALS user_factors length  = 206209\n",
      "\n",
      "Evaluated on 206209 users with ≥1 test item\n",
      "Recall@10:    0.2281\n",
      "Precision@10: 0.0228\n"
     ]
    }
   ],
   "source": [
    "# ─── Section 7: Model Evaluation (Recall@K, Precision@K) ───\n",
    "import numpy as np\n",
    "\n",
    "# 7.1 Confirm shapes line up\n",
    "print(\"train_matrix.shape       =\", train_matrix.shape)\n",
    "print(\"test_matrix.shape        =\", test_matrix.shape)\n",
    "print(\"ALS user_factors length  =\", als_model.user_factors.shape[0])  # must == n_users\n",
    "\n",
    "# 7.2 Set parameters\n",
    "K = 10\n",
    "n_users = train_matrix.shape[0]\n",
    "\n",
    "recalls = []\n",
    "precisions = []\n",
    "users_with_test = 0\n",
    "\n",
    "# 7.3 Loop only over users who have at least one held‐out item\n",
    "for u in range(n_users):\n",
    "    actual = test_matrix[u].indices\n",
    "    if len(actual) == 0:\n",
    "        continue\n",
    "    users_with_test += 1\n",
    "\n",
    "    # 7.4 Generate top‐K recommendations\n",
    "    preds, _ = als_model.recommend(\n",
    "        userid=u,\n",
    "        user_items=train_matrix[u],\n",
    "        N=K,\n",
    "        filter_already_liked_items=False\n",
    "    )\n",
    "\n",
    "    # 7.5 Compute hits, recall, precision\n",
    "    hits = np.intersect1d(actual, preds)\n",
    "    recalls.append(len(hits) / len(actual))\n",
    "    precisions.append(len(hits) / K)\n",
    "\n",
    "# 7.6 Aggregate and print\n",
    "print(f\"\\nEvaluated on {users_with_test} users with ≥1 test item\")\n",
    "print(f\"Recall@{K}:    {np.mean(recalls):.4f}\")\n",
    "print(f\"Precision@{K}: {np.mean(precisions):.4f}\")\n"
   ]
  },
  {
   "cell_type": "markdown",
   "id": "78af12bc-38b7-41d0-b05d-0c337c6ada11",
   "metadata": {},
   "source": [
    "## 8. Visualization & Presentation of Results\n",
    "Present key findings and model evaluation results using visualizations (bar charts, precision–recall curves, summary tables) for clear and effective interpretation."
   ]
  },
  {
   "cell_type": "code",
   "execution_count": 19,
   "id": "59373f4c-df0d-4e6b-a861-8e7be4e9d128",
   "metadata": {},
   "outputs": [
    {
     "name": "stdout",
     "output_type": "stream",
     "text": [
      "Sampling 5000/206209 users for quick eval\n",
      "\n",
      "Evaluation completed in 16.8 sec\n",
      "\n"
     ]
    },
    {
     "data": {
      "image/png": "[encoded data removed]",
      "text/plain": [
       "<Figure size 600x400 with 1 Axes>"
      ]
     },
     "metadata": {},
     "output_type": "display_data"
    },
    {
     "data": {
      "text/html": [
       "<style type=\"text/css\">\n",
       "#T_bb50c_row0_col0 {\n",
       "  width: 10em;\n",
       "  background: linear-gradient(90deg, #f28e2b 56.4%, transparent 56.4%);\n",
       "}\n",
       "#T_bb50c_row0_col1 {\n",
       "  width: 10em;\n",
       "  background: linear-gradient(90deg, #4e79a7 100.0%, transparent 100.0%);\n",
       "}\n",
       "#T_bb50c_row1_col0 {\n",
       "  width: 10em;\n",
       "  background: linear-gradient(90deg, #f28e2b 79.0%, transparent 79.0%);\n",
       "}\n",
       "#T_bb50c_row1_col1 {\n",
       "  width: 10em;\n",
       "  background: linear-gradient(90deg, #4e79a7 70.1%, transparent 70.1%);\n",
       "}\n",
       "#T_bb50c_row2_col0 {\n",
       "  width: 10em;\n",
       "  background: linear-gradient(90deg, #f28e2b 100.0%, transparent 100.0%);\n",
       "}\n",
       "#T_bb50c_row2_col1 {\n",
       "  width: 10em;\n",
       "  background: linear-gradient(90deg, #4e79a7 44.4%, transparent 44.4%);\n",
       "}\n",
       "</style>\n",
       "<table id=\"T_bb50c\">\n",
       "  <caption>Fast Offline Metrics (sampled users)</caption>\n",
       "  <thead>\n",
       "    <tr>\n",
       "      <th class=\"blank level0\" >&nbsp;</th>\n",
       "      <th id=\"T_bb50c_level0_col0\" class=\"col_heading level0 col0\" >Recall@K</th>\n",
       "      <th id=\"T_bb50c_level0_col1\" class=\"col_heading level0 col1\" >Precision@K</th>\n",
       "    </tr>\n",
       "    <tr>\n",
       "      <th class=\"index_name level0\" >K</th>\n",
       "      <th class=\"blank col0\" >&nbsp;</th>\n",
       "      <th class=\"blank col1\" >&nbsp;</th>\n",
       "    </tr>\n",
       "  </thead>\n",
       "  <tbody>\n",
       "    <tr>\n",
       "      <th id=\"T_bb50c_level0_row0\" class=\"row_heading level0 row0\" >5</th>\n",
       "      <td id=\"T_bb50c_row0_col0\" class=\"data row0 col0\" >0.1694</td>\n",
       "      <td id=\"T_bb50c_row0_col1\" class=\"data row0 col1\" >0.0339</td>\n",
       "    </tr>\n",
       "    <tr>\n",
       "      <th id=\"T_bb50c_level0_row1\" class=\"row_heading level0 row1\" >10</th>\n",
       "      <td id=\"T_bb50c_row1_col0\" class=\"data row1 col0\" >0.2374</td>\n",
       "      <td id=\"T_bb50c_row1_col1\" class=\"data row1 col1\" >0.0237</td>\n",
       "    </tr>\n",
       "    <tr>\n",
       "      <th id=\"T_bb50c_level0_row2\" class=\"row_heading level0 row2\" >20</th>\n",
       "      <td id=\"T_bb50c_row2_col0\" class=\"data row2 col0\" >0.3006</td>\n",
       "      <td id=\"T_bb50c_row2_col1\" class=\"data row2 col1\" >0.0150</td>\n",
       "    </tr>\n",
       "  </tbody>\n",
       "</table>\n"
      ],
      "text/plain": [
       "<pandas.io.formats.style.Styler at 0x217117f6410>"
      ]
     },
     "metadata": {},
     "output_type": "display_data"
    }
   ],
   "source": [
    "# ─── Section 8.4: Fast Eval + Nice Visualization / Report ───\n",
    "import time\n",
    "import numpy as np\n",
    "import pandas as pd\n",
    "import matplotlib.pyplot as plt\n",
    "\n",
    "# 1) Sample users with at least one held-out item for quick eval\n",
    "MAX_EVAL_USERS = 5000\n",
    "test_counts     = test_matrix.getnnz(axis=1)\n",
    "valid_users     = np.where(test_counts > 0)[0]\n",
    "\n",
    "if len(valid_users) > MAX_EVAL_USERS:\n",
    "    np.random.seed(42)\n",
    "    eval_users = np.random.choice(valid_users, MAX_EVAL_USERS, replace=False)\n",
    "    print(f\"Sampling {len(eval_users)}/{len(valid_users)} users for quick eval\")\n",
    "else:\n",
    "    eval_users = valid_users\n",
    "    print(f\"Evaluating on all {len(eval_users)} users\")\n",
    "\n",
    "# 2) Helper to compute Recall@K and Precision@K\n",
    "def eval_at_k(K, users):\n",
    "    recalls, precisions = [], []\n",
    "    for u in users:\n",
    "        actual = test_matrix[u].indices\n",
    "        recs, _ = als_model.recommend(\n",
    "            userid=u,\n",
    "            user_items=train_matrix[u],\n",
    "            N=K,\n",
    "            filter_already_liked_items=False\n",
    "        )\n",
    "        hits = np.intersect1d(actual, recs)\n",
    "        recalls.append(len(hits)/len(actual))\n",
    "        precisions.append(len(hits)/K)\n",
    "    return np.mean(recalls), np.mean(precisions)\n",
    "\n",
    "# 3) Run evaluation and time it\n",
    "start = time.time()\n",
    "results = []\n",
    "for K in [5, 10, 20]:\n",
    "    r, p = eval_at_k(K, eval_users)\n",
    "    results.append({'K': K, 'Recall@K': r, 'Precision@K': p})\n",
    "elapsed = time.time() - start\n",
    "print(f\"\\nEvaluation completed in {elapsed:.1f} sec\\n\")\n",
    "\n",
    "# 4) Build DataFrame\n",
    "metrics_df = pd.DataFrame(results).set_index('K')\n",
    "\n",
    "# 5) Plot grouped bar chart\n",
    "fig, ax = plt.subplots(figsize=(6,4))\n",
    "width = 2  # bar width\n",
    "inds  = np.array(metrics_df.index)\n",
    "\n",
    "ax.bar(inds - width/2, metrics_df['Recall@K'], width, label='Recall@K')\n",
    "ax.bar(inds + width/2, metrics_df['Precision@K'], width, label='Precision@K')\n",
    "\n",
    "ax.set_xticks(inds)\n",
    "ax.set_xlabel('K')\n",
    "ax.set_ylabel('Score')\n",
    "ax.set_title('Offline Metrics @ Different K')\n",
    "ax.legend()\n",
    "plt.tight_layout()\n",
    "plt.show()\n",
    "\n",
    "# 6) Display styled report table\n",
    "display(\n",
    "    metrics_df.style\n",
    "      .set_caption(\"Fast Offline Metrics (sampled users)\")\n",
    "      .bar(subset=['Recall@K'], color='#f28e2b')      # orange\n",
    "      .bar(subset=['Precision@K'], color='#4e79a7')   # blue\n",
    "      .format(\"{:.4f}\")\n",
    ")\n"
   ]
  },
  {
   "cell_type": "markdown",
   "id": "73ab2a7f-6a30-4cd6-a869-98cbf0ede7a5",
   "metadata": {},
   "source": [
    "## Conclusion\n",
    "\n",
    "In our **Exploratory Data Analysis (EDA)** phase, we focused on understanding user behavior by examining reorder rates, purchase diversity, and product popularity to ensure data quality and guide feature engineering.  \n",
    "\n",
    "During the **Modeling & Preprocessing** stage (Notebook 02), we implemented a robust train/test split by holding out each user’s last order, built sparse user×item matrices for implicit feedback, and trained an ALS model on the correctly oriented items×users matrix to learn meaningful latent factors.  \n",
    "\n",
    "This pipeline yielded reproducible Top-10 recommendations per user, and we evaluated performance offline using Recall@K and Precision@K over a representative user sample.  \n",
    "\n",
    "Overall, the project demonstrates a clear workflow from data exploration to model training and evaluation, laying the groundwork for further hyperparameter tuning and feature enhancements.  \n"
   ]
  }
 ],
 "metadata": {
  "kernelspec": {
   "display_name": "Python 3 (ipykernel)",
   "language": "python",
   "name": "python3"
  },
  "language_info": {
   "codemirror_mode": {
    "name": "ipython",
    "version": 3
   },
   "file_extension": ".py",
   "mimetype": "text/x-python",
   "name": "python",
   "nbconvert_exporter": "python",
   "pygments_lexer": "ipython3",
   "version": "3.11.1"
  }
 },
 "nbformat": 4,
 "nbformat_minor": 5
}
